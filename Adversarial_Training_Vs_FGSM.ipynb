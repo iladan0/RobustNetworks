{
  "nbformat": 4,
  "nbformat_minor": 0,
  "metadata": {
    "colab": {
      "name": "Adversarial Training Vs FGSM.ipynb",
      "provenance": [],
      "machine_shape": "hm"
    },
    "kernelspec": {
      "name": "python3",
      "display_name": "Python 3"
    },
    "language_info": {
      "name": "python"
    },
    "accelerator": "GPU"
  },
  "cells": [
    {
      "cell_type": "code",
      "execution_count": null,
      "metadata": {
        "colab": {
          "base_uri": "https://localhost:8080/"
        },
        "id": "dohY6RIEDQEP",
        "outputId": "45381629-d1c6-43bd-b273-fea67f906b2b"
      },
      "outputs": [
        {
          "output_type": "stream",
          "name": "stdout",
          "text": [
            "Cloning into 'assignment3-21-robustnet-1'...\n",
            "remote: Enumerating objects: 63, done.\u001b[K\n",
            "remote: Counting objects: 100% (63/63), done.\u001b[K\n",
            "remote: Compressing objects: 100% (52/52), done.\u001b[K\n",
            "remote: Total 63 (delta 24), reused 29 (delta 7), pack-reused 0\u001b[K\n",
            "Unpacking objects: 100% (63/63), done.\n"
          ]
        }
      ],
      "source": [
        "#get the project"
      ]
    },
    {
      "cell_type": "code",
      "source": [
        "%cd /content/assignment3-21-robustnet-1/"
      ],
      "metadata": {
        "colab": {
          "base_uri": "https://localhost:8080/"
        },
        "id": "iDF01HGYDZf5",
        "outputId": "584d3f93-1ae6-4d96-a4b8-60954183ea40"
      },
      "execution_count": null,
      "outputs": [
        {
          "output_type": "stream",
          "name": "stdout",
          "text": [
            "/content/assignment3-21-robustnet-1\n"
          ]
        }
      ]
    },
    {
      "cell_type": "code",
      "source": [
        "!pip install -r requirements.txt"
      ],
      "metadata": {
        "colab": {
          "base_uri": "https://localhost:8080/"
        },
        "id": "gn5LHeouDbt4",
        "outputId": "4ed6bbd5-290d-4f7a-ebb6-2973fe390e9a"
      },
      "execution_count": null,
      "outputs": [
        {
          "output_type": "stream",
          "name": "stdout",
          "text": [
            "Requirement already satisfied: torch in /usr/local/lib/python3.7/dist-packages (from -r requirements.txt (line 1)) (1.10.0+cu111)\n",
            "Requirement already satisfied: torchvision in /usr/local/lib/python3.7/dist-packages (from -r requirements.txt (line 2)) (0.11.1+cu111)\n",
            "Requirement already satisfied: numpy in /usr/local/lib/python3.7/dist-packages (from -r requirements.txt (line 3)) (1.19.5)\n",
            "Requirement already satisfied: pillow in /usr/local/lib/python3.7/dist-packages (from -r requirements.txt (line 4)) (7.1.2)\n",
            "Requirement already satisfied: matplotlib in /usr/local/lib/python3.7/dist-packages (from -r requirements.txt (line 5)) (3.2.2)\n",
            "Requirement already satisfied: typing-extensions in /usr/local/lib/python3.7/dist-packages (from torch->-r requirements.txt (line 1)) (3.10.0.2)\n",
            "Requirement already satisfied: pyparsing!=2.0.4,!=2.1.2,!=2.1.6,>=2.0.1 in /usr/local/lib/python3.7/dist-packages (from matplotlib->-r requirements.txt (line 5)) (3.0.6)\n",
            "Requirement already satisfied: kiwisolver>=1.0.1 in /usr/local/lib/python3.7/dist-packages (from matplotlib->-r requirements.txt (line 5)) (1.3.2)\n",
            "Requirement already satisfied: cycler>=0.10 in /usr/local/lib/python3.7/dist-packages (from matplotlib->-r requirements.txt (line 5)) (0.11.0)\n",
            "Requirement already satisfied: python-dateutil>=2.1 in /usr/local/lib/python3.7/dist-packages (from matplotlib->-r requirements.txt (line 5)) (2.8.2)\n",
            "Requirement already satisfied: six>=1.5 in /usr/local/lib/python3.7/dist-packages (from python-dateutil>=2.1->matplotlib->-r requirements.txt (line 5)) (1.15.0)\n"
          ]
        }
      ]
    },
    {
      "cell_type": "code",
      "source": [
        "#!/usr/bin/env python3 \n",
        "import os\n",
        "import argparse\n",
        "import torch\n",
        "import torchvision\n",
        "import numpy as np\n",
        "import torch.nn as nn\n",
        "import torch.nn.functional as F\n",
        "import torch.optim as optim\n",
        "import torch.utils.data\n",
        "import torchvision.transforms as transforms\n",
        "from random import randint\n",
        "\n",
        "from attacks import *\n",
        "from utils import *\n",
        "\n",
        "use_cuda = torch.cuda.is_available()\n",
        "device = torch.device(\"cuda\" if use_cuda else \"cpu\")\n",
        "\n",
        "valid_size = 1024\n",
        "batch_size = 32\n",
        "criterion = nn.NLLLoss()\n",
        "'''Basic neural network architecture (from pytorch doc).'''\n",
        "\n",
        "\n",
        "class Net(nn.Module):\n",
        "    model_file = \"models/default_model.pth\"\n",
        "    '''This file will be loaded to test your model. Use --model-file to load/store a different model.'''\n",
        "\n",
        "    def __init__(self):\n",
        "        super().__init__()\n",
        "        self.conv1 = nn.Conv2d(3, 6, 5)\n",
        "        self.pool = nn.MaxPool2d(2, 2)\n",
        "        self.conv2 = nn.Conv2d(6, 16, 5)\n",
        "        self.fc1 = nn.Linear(16 * 5 * 5, 120)\n",
        "        self.fc2 = nn.Linear(120, 84)\n",
        "        self.fc3 = nn.Linear(84, 10)\n",
        "\n",
        "    def forward(self, x):\n",
        "        x = self.pool(F.relu(self.conv1(x)))\n",
        "        x = self.pool(F.relu(self.conv2(x)))\n",
        "        x = torch.flatten(x, 1)\n",
        "        x = F.relu(self.fc1(x))\n",
        "        x = F.relu(self.fc2(x))\n",
        "        x = self.fc3(x)\n",
        "        x = F.log_softmax(x, dim=1)\n",
        "        return x\n",
        "\n",
        "    def save(self, model_file):\n",
        "        '''Helper function, use it to save the model weights after training.'''\n",
        "        torch.save(self.state_dict(), model_file)\n",
        "\n",
        "    def load(self, model_file):\n",
        "        self.load_state_dict(torch.load(model_file, map_location=torch.device(device)))\n",
        "\n",
        "    def load_for_testing(self, project_dir='./'):\n",
        "        '''This function will be called automatically before testing your\n",
        "           project, and will load the model weights from the file\n",
        "           specify in Net.model_file.\n",
        "           \n",
        "           You must not change the prototype of this function. You may\n",
        "           add extra code in its body if you feel it is necessary, but\n",
        "           beware that paths of files used in this function should be\n",
        "           refered relative to the root of your project directory.\n",
        "        '''\n",
        "        self.load(os.path.join(project_dir, Net.model_file))\n",
        "\n",
        "\n",
        "def train_model(net, train_loader, pth_filename, num_epochs):\n",
        "    '''Basic training function'''\n",
        "    print(\"Starting training\")\n",
        "\n",
        "    optimizer = optim.SGD(net.parameters(), lr=0.001, momentum=0.9)\n",
        "\n",
        "    train_loss = []\n",
        "    for epoch in range(num_epochs):  # loop over the dataset multiple times\n",
        "\n",
        "        loss_per_epoch = 0.0\n",
        "        for i, data in enumerate(train_loader, 0):\n",
        "            # get the inputs; data is a list of [inputs, labels]\n",
        "            inputs, labels = data[0].to(device), data[1].to(device)\n",
        "            optimizer.zero_grad()\n",
        "\n",
        "            # forward + backward + optimize\n",
        "            outputs = net(inputs)\n",
        "            loss = criterion(outputs, labels)\n",
        "            loss_per_epoch += loss.item()\n",
        "            loss.backward()\n",
        "            optimizer.step()\n",
        "\n",
        "            #Add adversarial data\n",
        "            #Here we just kept epsilon = 0.08\n",
        "            data_grad = inputs.grad.data\n",
        "            adv_data=fgsm(images, 0.08, data_grad)\n",
        "            optimizer.zero_grad()\n",
        "\n",
        "            # forward + backward + optimize\n",
        "            outputs = net(adv_data)\n",
        "            loss = criterion(outputs, labels)\n",
        "            loss_per_epoch += loss.item()\n",
        "            loss.backward()\n",
        "            optimizer.step()\n",
        "\n",
        "        epoch_loss = loss_per_epoch / (len(train_loader)*2)\n",
        "        train_loss.append(epoch_loss)\n",
        "        print(f'epoch : {epoch} --- loss : {epoch_loss} ')\n",
        "\n",
        "    net.save(pth_filename)\n",
        "    print('Model saved in {}'.format(pth_filename))\n",
        "    return train_loss\n",
        "\n",
        "\n",
        "####### Testing ############\n",
        "def test_natural(net, test_loader):\n",
        "    '''Basic testing function.'''\n",
        "\n",
        "    correct = 0\n",
        "    total = 0\n",
        "    # since we're not training, we don't need to calculate the gradients for our outputs\n",
        "    with torch.no_grad():\n",
        "        for i, data in enumerate(test_loader, 0):\n",
        "            images, labels = data[0].to(device), data[1].to(device)\n",
        "            # calculate outputs by running images through the network\n",
        "            outputs = net(images)\n",
        "            # the class with the highest energy is what we choose as prediction\n",
        "            _, predicted = torch.max(outputs.data, 1)\n",
        "            total += labels.size(0)\n",
        "            correct += (predicted == labels).sum().item()\n",
        "    return 100 * correct / total\n",
        "\n",
        "\n",
        "######################## Attack Testing ########################\n",
        "def test_fgsm(net, test_loader, epsilon):\n",
        "    correct = 0\n",
        "    for i, data in enumerate(test_loader, 0):\n",
        "        images, labels = data[0].to(device), data[1].to(device)\n",
        "        # calculate outputs by running images through the network\n",
        "        images.requires_grad = True\n",
        "        outputs = net(images)\n",
        "        # the class with the highest energy is what we choose as prediction\n",
        "        _, nat_pred = torch.max(outputs.data, 1)\n",
        "        if nat_pred.item() != labels.item():\n",
        "            continue\n",
        "        # if test sample is correctly predicted\n",
        "        loss = criterion(outputs, labels)\n",
        "        net.zero_grad()\n",
        "        loss.backward()\n",
        "\n",
        "        data_grad = images.grad.data\n",
        "        adv_data = fgsm(images, epsilon, data_grad)\n",
        "        output = net(adv_data)\n",
        "        _, adv_pred = torch.max(output.data, 1)\n",
        "        if adv_pred.item() == labels.item():\n",
        "            correct += 1\n",
        "    final_acc = correct / float(len(test_loader))\n",
        "    print(\"Epsilon: {}\\tTest Accuracy = {} / {} = {}\".format(epsilon, correct, len(test_loader), final_acc))\n",
        "    return 100 * final_acc\n",
        "\n",
        "\n",
        "def test_pgdlinf(net, test_loader, eta, eps, steps):\n",
        "    correct = 0\n",
        "    for i, data in enumerate(test_loader, 0):\n",
        "        images, labels = data[0].to(device), data[1].to(device)\n",
        "        adv_data = images.clone().detach().to(device)\n",
        "        for _ in range(steps):\n",
        "            # calculate outputs by running images through the network\n",
        "            adv_data.requires_grad = True\n",
        "            outputs = net(adv_data)\n",
        "\n",
        "            _, nat_pred = torch.max(outputs.data, 1)\n",
        "            if nat_pred.item() != labels.item():\n",
        "                break\n",
        "            loss = criterion(outputs, labels)\n",
        "            net.zero_grad()\n",
        "            loss.backward()\n",
        "\n",
        "            data_grad = adv_data.grad.data\n",
        "            adv_data = pgdlinf(adv_data, images, eta, eps, data_grad)\n",
        "        output = net(adv_data)\n",
        "        _, adv_pred = torch.max(output.data, 1)\n",
        "        if adv_pred.item() == labels.item():\n",
        "            correct += 1\n",
        "    final_acc = correct / float(len(test_loader))\n",
        "    print(\"Epsilon: {}\\tTest Accuracy = {} / {} = {}\".format(eps, correct, len(test_loader), final_acc))\n",
        "    return 100 * final_acc\n",
        "\n",
        "\n",
        "def test_pgdl2(net, test_loader, eta, eps, steps, eps_for_div):\n",
        "    correct = 0\n",
        "    for i, data in enumerate(test_loader, 0):\n",
        "\n",
        "        images, labels = data[0].to(device), data[1].to(device)\n",
        "        adv_data = images.clone().detach().to(device)\n",
        "        for _ in range(steps):\n",
        "\n",
        "            adv_data.requires_grad = True\n",
        "            outputs = net(adv_data)\n",
        "\n",
        "            _, nat_pred = torch.max(outputs.data, 1)\n",
        "            if nat_pred.item() != labels.item():\n",
        "\n",
        "                break\n",
        "            loss = criterion(outputs, labels)\n",
        "            net.zero_grad()\n",
        "            loss.backward()\n",
        "\n",
        "            data_grad = adv_data.grad.data\n",
        "            adv_data = pgdl2(adv_data, images, eta, eps, eps_for_div, data_grad)\n",
        "        output = net(adv_data)\n",
        "        _, adv_pred = torch.max(output.data, 1)\n",
        "        if adv_pred.item() == labels.item():\n",
        "            correct += 1\n",
        "    final_acc = correct / float(len(test_loader))\n",
        "    print(\"Epsilon: {}\\tTest Accuracy = {} / {} = {}\".format(eps, correct, len(test_loader), final_acc))\n",
        "    return 100 * final_acc\n",
        "\n",
        "\n",
        "\n",
        "##########################################\n",
        "\n",
        "def get_train_loader(dataset, valid_size=1024, batch_size=32):\n",
        "    '''Split dataset into [train:valid] and return a DataLoader for the training part.'''\n",
        "\n",
        "    indices = list(range(len(dataset)))\n",
        "    train_sampler = torch.utils.data.SubsetRandomSampler(indices[valid_size:])\n",
        "    train = torch.utils.data.DataLoader(dataset, sampler=train_sampler, batch_size=batch_size)\n",
        "\n",
        "    return train\n",
        "\n",
        "\n",
        "def get_validation_loader(dataset, valid_size=1024, batch_size=32):\n",
        "    '''Split dataset into [train:valid] and return a DataLoader for the validation part.'''\n",
        "\n",
        "    indices = list(range(len(dataset)))\n",
        "    valid_sampler = torch.utils.data.SubsetRandomSampler(indices[:valid_size])\n",
        "    valid = torch.utils.data.DataLoader(dataset, sampler=valid_sampler, batch_size=batch_size)\n",
        "\n",
        "    return valid\n",
        "\n"
      ],
      "metadata": {
        "id": "jCRPFB2gDkXm"
      },
      "execution_count": null,
      "outputs": []
    },
    {
      "cell_type": "code",
      "source": [
        "net = Net()\n",
        "net.to(device)"
      ],
      "metadata": {
        "colab": {
          "base_uri": "https://localhost:8080/"
        },
        "id": "tLPWzHc9DsN4",
        "outputId": "55793f6b-2c62-4e65-c7c8-42bc6d4d7c82"
      },
      "execution_count": null,
      "outputs": [
        {
          "output_type": "execute_result",
          "data": {
            "text/plain": [
              "Net(\n",
              "  (conv1): Conv2d(3, 6, kernel_size=(5, 5), stride=(1, 1))\n",
              "  (pool): MaxPool2d(kernel_size=2, stride=2, padding=0, dilation=1, ceil_mode=False)\n",
              "  (conv2): Conv2d(6, 16, kernel_size=(5, 5), stride=(1, 1))\n",
              "  (fc1): Linear(in_features=400, out_features=120, bias=True)\n",
              "  (fc2): Linear(in_features=120, out_features=84, bias=True)\n",
              "  (fc3): Linear(in_features=84, out_features=10, bias=True)\n",
              ")"
            ]
          },
          "metadata": {},
          "execution_count": 36
        }
      ]
    },
    {
      "cell_type": "code",
      "source": [
        "train_transform = transforms.Compose([transforms.ToTensor()])\n",
        "cifar = torchvision.datasets.CIFAR10('./data/', download=True, transform=train_transform)\n",
        "train_loader = get_train_loader(cifar, valid_size, batch_size)\n",
        "train_model(net, train_loader, \"models/adversarial_model_3_7_05.pth\", 20)\n",
        "print(\"Model save to '{}'.\".format(\"models/adversarial_model_3_7_05.pth\"))"
      ],
      "metadata": {
        "id": "405YwZhaDvRp"
      },
      "execution_count": null,
      "outputs": []
    },
    {
      "cell_type": "code",
      "source": [
        "train_transform = transforms.Compose([transforms.ToTensor()])\n",
        "cifar = torchvision.datasets.CIFAR10('./data/', download=True, transform=train_transform)\n",
        "train_loader = get_train_loader(cifar, valid_size, batch_size)\n",
        "train_model(net, train_loader, \"models/adversarial_all.pth\", 20)\n",
        "print(\"Model save to '{}'.\".format(\"models/adversarial_all.pth\"))"
      ],
      "metadata": {
        "colab": {
          "base_uri": "https://localhost:8080/"
        },
        "id": "0v7Q4EMw9dXw",
        "outputId": "3c2f1271-7e40-44a6-8cbc-c24568efb86f"
      },
      "execution_count": null,
      "outputs": [
        {
          "output_type": "stream",
          "name": "stdout",
          "text": [
            "Files already downloaded and verified\n",
            "Starting training\n",
            "epoch : 0 --- loss : 1.521342628997005 \n",
            "epoch : 1 --- loss : 1.520066463490496 \n",
            "epoch : 2 --- loss : 1.5162479990568916 \n",
            "epoch : 3 --- loss : 1.5172028524240273 \n",
            "epoch : 4 --- loss : 1.5156421710495955 \n",
            "epoch : 5 --- loss : 1.517751336876354 \n",
            "epoch : 6 --- loss : 1.5113327375832348 \n",
            "epoch : 7 --- loss : 1.5172140620098948 \n",
            "epoch : 8 --- loss : 1.5168746795084336 \n",
            "epoch : 9 --- loss : 1.5124454005089507 \n",
            "epoch : 10 --- loss : 1.5103917240499543 \n",
            "epoch : 11 --- loss : 1.5106451984080462 \n",
            "epoch : 12 --- loss : 1.508977986928972 \n",
            "epoch : 13 --- loss : 1.509149081873629 \n",
            "epoch : 14 --- loss : 1.5074719823369682 \n",
            "epoch : 15 --- loss : 1.5110504051231233 \n",
            "epoch : 16 --- loss : 1.5109638102545657 \n",
            "epoch : 17 --- loss : 1.5085850079971126 \n",
            "epoch : 18 --- loss : 1.5053224459975056 \n",
            "epoch : 19 --- loss : 1.5090626085308054 \n",
            "Model saved in models/adversarial_all.pth\n",
            "Model save to 'models/adversarial_all.pth'.\n"
          ]
        }
      ]
    },
    {
      "cell_type": "code",
      "source": [
        "train_transform = transforms.Compose([transforms.ToTensor()])\n",
        "cifar = torchvision.datasets.CIFAR10('./data/', download=True, transform=train_transform)\n",
        "train_loader = get_train_loader(cifar, valid_size, batch_size)\n",
        "train_model(net, train_loader, \"models/adversarial_model_82.pth\", 20)\n",
        "print(\"Model save to '{}'.\".format(\"models/adversarial_model_82.pth\"))"
      ],
      "metadata": {
        "colab": {
          "base_uri": "https://localhost:8080/"
        },
        "id": "CFKqxBC35D6m",
        "outputId": "36e8004b-2358-43aa-8093-9cb46f05c405"
      },
      "execution_count": null,
      "outputs": [
        {
          "output_type": "stream",
          "name": "stdout",
          "text": [
            "Files already downloaded and verified\n",
            "Starting training\n",
            "epoch : 0 --- loss : 2.054803913282772 \n",
            "epoch : 1 --- loss : 2.051104817318029 \n",
            "epoch : 2 --- loss : 2.046331473721701 \n",
            "epoch : 3 --- loss : 2.0437407043149936 \n",
            "epoch : 4 --- loss : 2.0448552927478008 \n",
            "epoch : 5 --- loss : 2.0363854977291913 \n",
            "epoch : 6 --- loss : 2.0361093507238963 \n",
            "epoch : 7 --- loss : 2.0310107886421376 \n",
            "epoch : 8 --- loss : 2.0293752455793124 \n",
            "epoch : 9 --- loss : 2.029071796502964 \n",
            "epoch : 10 --- loss : 2.0212729889376346 \n",
            "epoch : 11 --- loss : 2.0220393972175716 \n",
            "epoch : 12 --- loss : 2.0193008613267183 \n",
            "epoch : 13 --- loss : 2.014540722047403 \n",
            "epoch : 14 --- loss : 2.0141091105168663 \n",
            "epoch : 15 --- loss : 2.0159653760906453 \n",
            "epoch : 16 --- loss : 2.007206573547062 \n",
            "epoch : 17 --- loss : 2.0111265840443187 \n",
            "epoch : 18 --- loss : 2.0066997026848217 \n",
            "epoch : 19 --- loss : 2.0027330792432982 \n",
            "Model saved in models/adversarial_model_82.pth\n",
            "Model save to 'models/adversarial_model_82.pth'.\n"
          ]
        }
      ]
    },
    {
      "cell_type": "code",
      "source": [
        "train_transform = transforms.Compose([transforms.ToTensor()])\n",
        "cifar = torchvision.datasets.CIFAR10('./data/', download=True, transform=train_transform)\n",
        "train_loader = get_train_loader(cifar, valid_size, batch_size)\n",
        "train_model(net, train_loader, \"models/adversarial_model_10.pth\", 20)\n",
        "print(\"Model save to '{}'.\".format(\"models/adversarial_model_10.pth\"))"
      ],
      "metadata": {
        "id": "7_oCWCkALFDR"
      },
      "execution_count": null,
      "outputs": []
    },
    {
      "cell_type": "code",
      "source": [
        "train_transform = transforms.Compose([transforms.ToTensor()])\n",
        "cifar = torchvision.datasets.CIFAR10('./data/', download=True, transform=train_transform)\n",
        "train_loader = get_train_loader(cifar, valid_size, batch_size)\n",
        "train_model(net, train_loader, \"models/adversarial_model_1.pth\", 20)\n",
        "print(\"Model save to '{}'.\".format(\"models/adversarial_model_1.pth\"))"
      ],
      "metadata": {
        "id": "FhYJyvRlxTes"
      },
      "execution_count": null,
      "outputs": []
    },
    {
      "cell_type": "code",
      "source": [
        "train_transform = transforms.Compose([transforms.ToTensor()])\n",
        "cifar = torchvision.datasets.CIFAR10('./data/', download=True, transform=train_transform)\n",
        "train_loader = get_train_loader(cifar, valid_size, batch_size)\n",
        "train_model(net, train_loader, \"models/adversarial_model_19.pth\", 20)\n",
        "print(\"Model save to '{}'.\".format(\"models/adversarial_model_15.pth\"))"
      ],
      "metadata": {
        "colab": {
          "base_uri": "https://localhost:8080/"
        },
        "id": "xJJ1OscU0Udd",
        "outputId": "6f5d011f-a551-4857-9c83-82cb869f2b9d"
      },
      "execution_count": null,
      "outputs": [
        {
          "output_type": "stream",
          "name": "stdout",
          "text": [
            "Files already downloaded and verified\n",
            "Starting training\n",
            "epoch : 0 --- loss : 0.9842240375087667 \n",
            "epoch : 1 --- loss : 0.9777143424404827 \n",
            "epoch : 2 --- loss : 0.969240802743519 \n",
            "epoch : 3 --- loss : 0.9709523917120473 \n",
            "epoch : 4 --- loss : 0.9647462345820327 \n",
            "epoch : 5 --- loss : 0.9640322574149698 \n",
            "epoch : 6 --- loss : 0.9581814369516463 \n",
            "epoch : 7 --- loss : 0.9584771523545335 \n",
            "epoch : 8 --- loss : 0.9577088207249779 \n",
            "epoch : 9 --- loss : 0.9557467685960073 \n",
            "epoch : 10 --- loss : 0.95512484307483 \n",
            "epoch : 11 --- loss : 0.950960716202242 \n",
            "epoch : 12 --- loss : 0.9479156221968142 \n",
            "epoch : 13 --- loss : 0.9496853934013322 \n",
            "epoch : 14 --- loss : 0.9477578679636208 \n",
            "epoch : 15 --- loss : 0.947908280532902 \n",
            "epoch : 16 --- loss : 0.944550440309096 \n",
            "epoch : 17 --- loss : 0.94455579827904 \n",
            "epoch : 18 --- loss : 0.9398520119454173 \n",
            "epoch : 19 --- loss : 0.9391299422506723 \n",
            "Model saved in models/adversarial_model_19.pth\n",
            "Model save to 'models/adversarial_model_15.pth'.\n"
          ]
        }
      ]
    },
    {
      "cell_type": "code",
      "source": [
        "train_transform = transforms.Compose([transforms.ToTensor()])\n",
        "cifar = torchvision.datasets.CIFAR10('./data/', download=True, transform=train_transform)\n",
        "train_loader = get_train_loader(cifar, valid_size, batch_size)\n",
        "train_model(net, train_loader, \"models/adversarial_model_5.pth\", 20)\n",
        "print(\"Model save to '{}'.\".format(\"models/adversarial_model_5.pth\"))"
      ],
      "metadata": {
        "id": "sm5CLcqkpqi9"
      },
      "execution_count": null,
      "outputs": []
    },
    {
      "cell_type": "code",
      "source": [
        "train_transform = transforms.Compose([transforms.ToTensor()])\n",
        "cifar = torchvision.datasets.CIFAR10('./data/', download=True, transform=train_transform)\n",
        "train_loader = get_train_loader(cifar, valid_size, batch_size)\n",
        "train_model(net, train_loader, \"models/adversarial_model_3.pth\", 20)\n",
        "print(\"Model save to '{}'.\".format(\"models/adversarial_model_3.pth\"))"
      ],
      "metadata": {
        "id": "x-T1pzJ8t8Qy"
      },
      "execution_count": null,
      "outputs": []
    },
    {
      "cell_type": "code",
      "source": [
        "train_transform = transforms.Compose([transforms.ToTensor()])\n",
        "cifar = torchvision.datasets.CIFAR10('./data/', download=True, transform=train_transform)\n",
        "train_loader = get_train_loader(cifar, valid_size, batch_size)\n",
        "train_model(net, train_loader, \"models/adversarial_model_2.pth\", 20)\n",
        "print(\"Model save to '{}'.\".format(\"models/adversarial_model_2.pth\"))"
      ],
      "metadata": {
        "id": "P8XcR3Ldvhf-"
      },
      "execution_count": null,
      "outputs": []
    },
    {
      "cell_type": "code",
      "source": [
        "train_transform = transforms.Compose([transforms.ToTensor()])\n",
        "cifar = torchvision.datasets.CIFAR10('./data/', download=True, transform=train_transform)\n",
        "train_loader = get_train_loader(cifar, valid_size, batch_size)\n",
        "train_model(net, train_loader, \"models/adversarial_model_50.pth\", 20)\n",
        "print(\"Model save to '{}'.\".format(\"models/adversarial_model_50.pth\"))"
      ],
      "metadata": {
        "id": "9aK755H-MtU9"
      },
      "execution_count": null,
      "outputs": []
    },
    {
      "cell_type": "code",
      "source": [
        "train_transform = transforms.Compose([transforms.ToTensor()])\n",
        "cifar = torchvision.datasets.CIFAR10('./data/', download=True, transform=train_transform)\n",
        "train_loader = get_train_loader(cifar, valid_size, batch_size)\n",
        "train_model(net, train_loader, \"models/adversarial_model_30.pth\", 20)\n",
        "print(\"Model save to '{}'.\".format(\"models/adversarial_model_30.pth\"))"
      ],
      "metadata": {
        "id": "9RDpOKyPOLY4"
      },
      "execution_count": null,
      "outputs": []
    },
    {
      "cell_type": "code",
      "source": [
        "train_transform = transforms.Compose([transforms.ToTensor()])\n",
        "cifar = torchvision.datasets.CIFAR10('./data/', download=True, transform=train_transform)\n",
        "train_loader = get_train_loader(cifar, valid_size, batch_size)\n",
        "train_model(net, train_loader, \"models/adversarial_model_8.pth\", 20)\n",
        "print(\"Model save to '{}'.\".format(\"models/adversarial_model_8.pth\"))"
      ],
      "metadata": {
        "id": "f6SK5N65QeHO"
      },
      "execution_count": null,
      "outputs": []
    },
    {
      "cell_type": "code",
      "source": [
        "train_transform = transforms.Compose([transforms.ToTensor()])\n",
        "cifar = torchvision.datasets.CIFAR10('./data/', download=True, transform=train_transform)\n",
        "train_loader = get_train_loader(cifar, valid_size, batch_size)\n",
        "train_model(net, train_loader, \"models/adversarial_model_4.pth\", 20)\n",
        "print(\"Model save to '{}'.\".format(\"models/adversarial_model_4.pth\"))"
      ],
      "metadata": {
        "id": "oszxtq_JgUww"
      },
      "execution_count": null,
      "outputs": []
    },
    {
      "cell_type": "code",
      "source": [
        "train_transform = transforms.Compose([transforms.ToTensor()])\n",
        "cifar = torchvision.datasets.CIFAR10('./data/', download=True, transform=train_transform)\n",
        "train_loader = get_train_loader(cifar, valid_size, batch_size)\n",
        "train_model(net, train_loader, \"models/adversarial_model_4.pth\", 20)\n",
        "print(\"Model save to '{}'.\".format(\"models/adversarial_model_4.pth\"))"
      ],
      "metadata": {
        "id": "R-_Mu25rvmSA"
      },
      "execution_count": null,
      "outputs": []
    },
    {
      "cell_type": "code",
      "source": [
        "train_transform = transforms.Compose([transforms.ToTensor()])\n",
        "cifar = torchvision.datasets.CIFAR10('./data/', download=True, transform=train_transform)\n",
        "train_loader = get_train_loader(cifar, valid_size, batch_size)\n",
        "train_model(net, train_loader, \"models/adversarial_model_6.pth\", 20)\n",
        "print(\"Model save to '{}'.\".format(\"models/adversarial_model_6.pth\"))"
      ],
      "metadata": {
        "id": "9tn9m3bdaefx"
      },
      "execution_count": null,
      "outputs": []
    },
    {
      "cell_type": "code",
      "source": [
        "train_transform = transforms.Compose([transforms.ToTensor()])\n",
        "cifar = torchvision.datasets.CIFAR10('./data/', download=True, transform=train_transform)\n",
        "train_loader = get_train_loader(cifar, valid_size, batch_size)\n",
        "train_model(net, train_loader, \"models/adversarial_model_7.pth\", 20)\n",
        "print(\"Model save to '{}'.\".format(\"models/adversarial_model_7.pth\"))"
      ],
      "metadata": {
        "colab": {
          "base_uri": "https://localhost:8080/"
        },
        "id": "n7vQm439SSrr",
        "outputId": "5ff5d043-410e-44f2-efa4-dc69f625bac3"
      },
      "execution_count": null,
      "outputs": [
        {
          "output_type": "stream",
          "name": "stdout",
          "text": [
            "Files already downloaded and verified\n",
            "Starting training\n",
            "epoch : 0 --- loss : 0.8716112991696398 \n",
            "epoch : 1 --- loss : 0.8097426913153066 \n",
            "epoch : 2 --- loss : 0.7863650375151073 \n",
            "epoch : 3 --- loss : 0.7630997709224303 \n",
            "epoch : 4 --- loss : 0.7536799942029507 \n",
            "epoch : 5 --- loss : 0.7348195646033615 \n",
            "epoch : 6 --- loss : 0.7317032479309398 \n",
            "epoch : 7 --- loss : 0.7191171658126203 \n",
            "epoch : 8 --- loss : 0.7064728950418576 \n",
            "epoch : 9 --- loss : 0.7050059931474396 \n",
            "epoch : 10 --- loss : 0.704137877021581 \n",
            "epoch : 11 --- loss : 0.7016815130412092 \n",
            "epoch : 12 --- loss : 0.6944655748224099 \n",
            "epoch : 13 --- loss : 0.6858372835163817 \n",
            "epoch : 14 --- loss : 0.6769473344467186 \n",
            "epoch : 15 --- loss : 0.6767325636770778 \n",
            "epoch : 16 --- loss : 0.6755065910085053 \n",
            "epoch : 17 --- loss : 0.6739300242013825 \n",
            "epoch : 18 --- loss : 0.6691955089073928 \n",
            "epoch : 19 --- loss : 0.6623135166155122 \n",
            "Model saved in models/adversarial_model_7.pth\n",
            "Model save to 'models/adversarial_model_7.pth'.\n"
          ]
        }
      ]
    },
    {
      "cell_type": "code",
      "source": [
        "train_transform = transforms.Compose([transforms.ToTensor()])\n",
        "cifar = torchvision.datasets.CIFAR10('./data/', download=True, transform=train_transform)\n",
        "train_loader = get_train_loader(cifar, valid_size, batch_size)\n",
        "train_model(net, train_loader, \"models/adversarial_model_9.pth\", 20)\n",
        "print(\"Model save to '{}'.\".format(\"models/adversarial_model_9.pth\"))"
      ],
      "metadata": {
        "id": "lZVtPM_EYtyD"
      },
      "execution_count": null,
      "outputs": []
    },
    {
      "cell_type": "code",
      "source": [
        "train_transform = transforms.Compose([transforms.ToTensor()])\n",
        "cifar = torchvision.datasets.CIFAR10('./data/', download=True, transform=train_transform)\n",
        "train_loader = get_train_loader(cifar, valid_size, batch_size)\n",
        "train_model(net, train_loader, \"models/adversarial_model_7-5.pth\", 20)\n",
        "print(\"Model save to '{}'.\".format(\"models/adversarial_model_7-5.pth\"))"
      ],
      "metadata": {
        "id": "Lzw-CAEqUgEC"
      },
      "execution_count": null,
      "outputs": []
    },
    {
      "cell_type": "code",
      "source": [
        "train_transform = transforms.Compose([transforms.ToTensor()])\n",
        "cifar = torchvision.datasets.CIFAR10('./data/', download=True, transform=train_transform)\n",
        "train_loader = get_train_loader(cifar, valid_size, batch_size)\n",
        "train_model(net, train_loader, \"models/adversarial_model_9-5.pth\", 20)\n",
        "print(\"Model save to '{}'.\".format(\"models/adversarial_model_9-5.pth\"))"
      ],
      "metadata": {
        "id": "HyHB4oEIi9Ph"
      },
      "execution_count": null,
      "outputs": []
    },
    {
      "cell_type": "code",
      "source": [
        "train_transform = transforms.Compose([transforms.ToTensor()])\n",
        "cifar = torchvision.datasets.CIFAR10('./data/', download=True, transform=train_transform)\n",
        "train_loader = get_train_loader(cifar, valid_size, batch_size)\n",
        "train_model(net, train_loader, \"models/adversarial_model_9-9.pth\", 20)\n",
        "print(\"Model save to '{}'.\".format(\"models/adversarial_model_9-9.pth\"))"
      ],
      "metadata": {
        "id": "V3JM0vhokkjS"
      },
      "execution_count": null,
      "outputs": []
    },
    {
      "cell_type": "code",
      "source": [
        "train_transform = transforms.Compose([transforms.ToTensor()])\n",
        "cifar = torchvision.datasets.CIFAR10('./data/', download=True, transform=train_transform)\n",
        "train_loader = get_train_loader(cifar, valid_size, batch_size)\n",
        "train_model(net, train_loader, \"models/adversarial_model_03_3_30.pth\", 20)\n",
        "print(\"Model save to '{}'.\".format(\"models/adversarial_model_03_3_30.pth\"))"
      ],
      "metadata": {
        "id": "q4YUzjlPHLZe"
      },
      "execution_count": null,
      "outputs": []
    },
    {
      "cell_type": "code",
      "source": [
        "cifar = torchvision.datasets.CIFAR10('./data/', download=True, transform=transforms.ToTensor())\n",
        "valid_loader = get_validation_loader(cifar, valid_size, 1)  # batch size one for attack test otherwise put 32\n",
        "net.load(\"models/adversarial_model_3_7_05.pth\")\n",
        "acc = test_natural(net, valid_loader)\n",
        "print(\"Model natural accuracy (valid): {}\".format(acc))"
      ],
      "metadata": {
        "colab": {
          "base_uri": "https://localhost:8080/"
        },
        "id": "irvccDByGD2c",
        "outputId": "bc229838-1aad-48ba-ac40-b198fa4c639c"
      },
      "execution_count": null,
      "outputs": [
        {
          "output_type": "stream",
          "name": "stdout",
          "text": [
            "Files already downloaded and verified\n",
            "Model natural accuracy (valid): 57.91015625\n"
          ]
        }
      ]
    },
    {
      "cell_type": "code",
      "source": [
        "cifar = torchvision.datasets.CIFAR10('./data/', download=True, transform=transforms.ToTensor())\n",
        "valid_loader = get_validation_loader(cifar, valid_size, 1)  # batch size one for attack test otherwise put 32\n",
        "net.load(\"models/adversarial_model_10.pth\")\n",
        "acc = test_natural(net, valid_loader)\n",
        "print(\"Model natural accuracy (valid): {}\".format(acc))"
      ],
      "metadata": {
        "colab": {
          "base_uri": "https://localhost:8080/"
        },
        "id": "MCaqeAX4LK7S",
        "outputId": "02b5d8e4-46b0-45ee-a96a-a34b160dcafd"
      },
      "execution_count": null,
      "outputs": [
        {
          "output_type": "stream",
          "name": "stdout",
          "text": [
            "Files already downloaded and verified\n",
            "Model natural accuracy (valid): 63.671875\n"
          ]
        }
      ]
    },
    {
      "cell_type": "code",
      "source": [
        "cifar = torchvision.datasets.CIFAR10('./data/', download=True, transform=transforms.ToTensor())\n",
        "valid_loader = get_validation_loader(cifar, valid_size, 1)  # batch size one for attack test otherwise put 32\n",
        "net.load(\"models/adversarial_model_5.pth\")\n",
        "acc = test_natural(net, valid_loader)"
      ],
      "metadata": {
        "colab": {
          "base_uri": "https://localhost:8080/"
        },
        "id": "pAlDmdnbp1Ch",
        "outputId": "b95b5680-b297-444d-c562-1cd32763fd0c"
      },
      "execution_count": null,
      "outputs": [
        {
          "output_type": "stream",
          "name": "stdout",
          "text": [
            "Files already downloaded and verified\n"
          ]
        }
      ]
    },
    {
      "cell_type": "code",
      "source": [
        "cifar = torchvision.datasets.CIFAR10('./data/', download=True, transform=transforms.ToTensor())\n",
        "valid_loader = get_validation_loader(cifar, valid_size, 1)  # batch size one for attack test otherwise put 32\n",
        "net.load(\"models/adversarial_model_8.pth\")\n",
        "acc = test_natural(net, valid_loader)\n",
        "print(\"Model natural accuracy (valid): {}\".format(acc))"
      ],
      "metadata": {
        "colab": {
          "base_uri": "https://localhost:8080/"
        },
        "id": "3Bf-ffXIQmms",
        "outputId": "52533f80-ff77-474d-f5f2-a66be7a3d76c"
      },
      "execution_count": null,
      "outputs": [
        {
          "output_type": "stream",
          "name": "stdout",
          "text": [
            "Files already downloaded and verified\n",
            "Model natural accuracy (valid): 63.8671875\n"
          ]
        }
      ]
    },
    {
      "cell_type": "code",
      "source": [
        "cifar = torchvision.datasets.CIFAR10('./data/', download=True, transform=transforms.ToTensor())\n",
        "valid_loader = get_validation_loader(cifar, valid_size, 1)  # batch size one for attack test otherwise put 32\n",
        "net.load(\"models/adversarial_model_7.pth\")\n",
        "acc = test_natural(net, valid_loader)\n",
        "print(\"Model natural accuracy (valid): {}\".format(acc))"
      ],
      "metadata": {
        "colab": {
          "base_uri": "https://localhost:8080/"
        },
        "id": "4ix8oWJBSW-D",
        "outputId": "d77918d3-2cb2-4bba-f767-89764abf7b06"
      },
      "execution_count": null,
      "outputs": [
        {
          "output_type": "stream",
          "name": "stdout",
          "text": [
            "Files already downloaded and verified\n",
            "Model natural accuracy (valid): 54.296875\n"
          ]
        }
      ]
    },
    {
      "cell_type": "code",
      "source": [
        "cifar = torchvision.datasets.CIFAR10('./data/', download=True, transform=transforms.ToTensor())\n",
        "valid_loader = get_validation_loader(cifar, valid_size, 1)  # batch size one for attack test otherwise put 32\n",
        "net.load(\"models/adversarial_model_9.pth\")\n",
        "acc = test_natural(net, valid_loader)\n",
        "print(\"Model natural accuracy (valid): {}\".format(acc))"
      ],
      "metadata": {
        "id": "C_zRE7dEYy82"
      },
      "execution_count": null,
      "outputs": []
    },
    {
      "cell_type": "code",
      "source": [
        "cifar = torchvision.datasets.CIFAR10('./data/', download=True, transform=transforms.ToTensor())\n",
        "valid_loader = get_validation_loader(cifar, valid_size, 1)  # batch size one for attack test otherwise put 32\n",
        "net.load(\"models/adversarial_model_7-5.pth\")\n",
        "acc = test_natural(net, valid_loader)\n",
        "print(\"Model natural accuracy (valid): {}\".format(acc))"
      ],
      "metadata": {
        "colab": {
          "base_uri": "https://localhost:8080/"
        },
        "id": "OiJ7NYF7UrOx",
        "outputId": "4b85346b-c489-43ab-ac25-4864bcab1c25"
      },
      "execution_count": null,
      "outputs": [
        {
          "output_type": "stream",
          "name": "stdout",
          "text": [
            "Files already downloaded and verified\n",
            "Model natural accuracy (valid): 61.62109375\n"
          ]
        }
      ]
    },
    {
      "cell_type": "code",
      "source": [
        "cifar = torchvision.datasets.CIFAR10('./data/', download=True, transform=transforms.ToTensor())\n",
        "valid_loader = get_validation_loader(cifar, valid_size, 1)  # batch size one for attack test otherwise put 32\n",
        "net.load(\"models/adversarial_model_50.pth\")\n",
        "acc = test_natural(net, valid_loader)\n",
        "print(\"Model natural accuracy (valid): {}\".format(acc))"
      ],
      "metadata": {
        "colab": {
          "base_uri": "https://localhost:8080/"
        },
        "id": "P8GpaGiPMzkA",
        "outputId": "b74dc40d-c1ea-4c88-efc5-dcc7581f09cb"
      },
      "execution_count": null,
      "outputs": [
        {
          "output_type": "stream",
          "name": "stdout",
          "text": [
            "Files already downloaded and verified\n",
            "Model natural accuracy (valid): 63.28125\n"
          ]
        }
      ]
    },
    {
      "cell_type": "code",
      "source": [
        "cifar = torchvision.datasets.CIFAR10('./data/', download=True, transform=transforms.ToTensor())\n",
        "valid_loader = get_validation_loader(cifar, valid_size, 1)  # batch size one for attack test otherwise put 32\n",
        "net.load(\"models/adversarial_model_6.pth\")\n",
        "acc = test_natural(net, valid_loader)\n",
        "print(\"Model natural accuracy (valid): {}\".format(acc))"
      ],
      "metadata": {
        "colab": {
          "base_uri": "https://localhost:8080/"
        },
        "id": "VzREXE1LalgW",
        "outputId": "fcfe35fb-f3bd-43ea-d63d-a4bfbf2989e8"
      },
      "execution_count": null,
      "outputs": [
        {
          "output_type": "stream",
          "name": "stdout",
          "text": [
            "Files already downloaded and verified\n",
            "Model natural accuracy (valid): 61.03515625\n"
          ]
        }
      ]
    },
    {
      "cell_type": "code",
      "source": [
        "cifar = torchvision.datasets.CIFAR10('./data/', download=True, transform=transforms.ToTensor())\n",
        "valid_loader = get_validation_loader(cifar, valid_size, 1)  # batch size one for attack test otherwise put 32\n",
        "net.load(\"models/adversarial_model_6.pth\")\n",
        "acc = test_natural(net, valid_loader)\n",
        "print(\"Model natural accuracy (valid): {}\".format(acc))"
      ],
      "metadata": {
        "colab": {
          "base_uri": "https://localhost:8080/"
        },
        "id": "VLyeVkYTc1_i",
        "outputId": "6fe1538d-c596-4405-dace-90e85b712c87"
      },
      "execution_count": null,
      "outputs": [
        {
          "output_type": "stream",
          "name": "stdout",
          "text": [
            "Files already downloaded and verified\n",
            "Model natural accuracy (valid): 59.1796875\n"
          ]
        }
      ]
    },
    {
      "cell_type": "code",
      "source": [
        "cifar = torchvision.datasets.CIFAR10('./data/', download=True, transform=transforms.ToTensor())\n",
        "valid_loader = get_validation_loader(cifar, valid_size, 1)  # batch size one for attack test otherwise put 32\n",
        "net.load(\"models/adversarial_model_30.pth\")\n",
        "acc = test_natural(net, valid_loader)\n",
        "print(\"Model natural accuracy (valid): {}\".format(acc))"
      ],
      "metadata": {
        "colab": {
          "base_uri": "https://localhost:8080/"
        },
        "id": "ukoN_wP3Od2p",
        "outputId": "5028d0ec-e9ac-4fb0-816f-d49c8fcc10a5"
      },
      "execution_count": null,
      "outputs": [
        {
          "output_type": "stream",
          "name": "stdout",
          "text": [
            "Files already downloaded and verified\n",
            "Model natural accuracy (valid): 64.0625\n"
          ]
        }
      ]
    },
    {
      "cell_type": "code",
      "source": [
        "cifar = torchvision.datasets.CIFAR10('./data/', download=True, transform=transforms.ToTensor())\n",
        "valid_loader = get_validation_loader(cifar, valid_size, 1)  # batch size one for attack test otherwise put 32\n",
        "net.load(\"models/adversarial_model_03_3_30.pth\")\n",
        "acc = test_natural(net, valid_loader)\n",
        "print(\"Model natural accuracy (valid): {}\".format(acc))"
      ],
      "metadata": {
        "colab": {
          "base_uri": "https://localhost:8080/"
        },
        "id": "Dx7szRNUHwfy",
        "outputId": "001456af-0c4a-47d0-b4ce-4768b3de16c1"
      },
      "execution_count": null,
      "outputs": [
        {
          "output_type": "stream",
          "name": "stdout",
          "text": [
            "Files already downloaded and verified\n",
            "Model natural accuracy (valid): 60.15625\n"
          ]
        }
      ]
    },
    {
      "cell_type": "code",
      "source": [
        "#Accuracies of Trained model (with adversarial fgsm (0.03) data) with FGSM Attack \n",
        "epsilons = [0, .005, .01, .015, .02, .025, .03,.035,.04,.045,.050,.055,.06,.065,.07,.075,.08,.085,.09,.095,0.1]\n",
        "\n",
        "accuracies_3_7_05_fgsm = []\n",
        "net.load(\"models/adversarial_model_3_7_05.pth\")\n",
        "for eps in epsilons:\n",
        "  acc = test_fgsm(net, valid_loader, eps)\n",
        "  accuracies_3_7_05_fgsm.append(acc)\n",
        "  print(\"Model fgsm attack accuracy (validation): {}\".format(acc))"
      ],
      "metadata": {
        "colab": {
          "base_uri": "https://localhost:8080/"
        },
        "id": "TPmsv34_GV_M",
        "outputId": "cbc52668-7cdc-42ca-c1ba-53e012d66979"
      },
      "execution_count": null,
      "outputs": [
        {
          "output_type": "stream",
          "name": "stdout",
          "text": [
            "Epsilon: 0\tTest Accuracy = 593 / 1024 = 0.5791015625\n",
            "Model fgsm attack accuracy (validation): 57.91015625\n",
            "Epsilon: 0.005\tTest Accuracy = 509 / 1024 = 0.4970703125\n",
            "Model fgsm attack accuracy (validation): 49.70703125\n",
            "Epsilon: 0.01\tTest Accuracy = 443 / 1024 = 0.4326171875\n",
            "Model fgsm attack accuracy (validation): 43.26171875\n",
            "Epsilon: 0.015\tTest Accuracy = 395 / 1024 = 0.3857421875\n",
            "Model fgsm attack accuracy (validation): 38.57421875\n",
            "Epsilon: 0.02\tTest Accuracy = 338 / 1024 = 0.330078125\n",
            "Model fgsm attack accuracy (validation): 33.0078125\n",
            "Epsilon: 0.025\tTest Accuracy = 294 / 1024 = 0.287109375\n",
            "Model fgsm attack accuracy (validation): 28.7109375\n",
            "Epsilon: 0.03\tTest Accuracy = 255 / 1024 = 0.2490234375\n",
            "Model fgsm attack accuracy (validation): 24.90234375\n",
            "Epsilon: 0.035\tTest Accuracy = 224 / 1024 = 0.21875\n",
            "Model fgsm attack accuracy (validation): 21.875\n",
            "Epsilon: 0.04\tTest Accuracy = 197 / 1024 = 0.1923828125\n",
            "Model fgsm attack accuracy (validation): 19.23828125\n",
            "Epsilon: 0.045\tTest Accuracy = 180 / 1024 = 0.17578125\n",
            "Model fgsm attack accuracy (validation): 17.578125\n",
            "Epsilon: 0.05\tTest Accuracy = 161 / 1024 = 0.1572265625\n",
            "Model fgsm attack accuracy (validation): 15.72265625\n",
            "Epsilon: 0.055\tTest Accuracy = 144 / 1024 = 0.140625\n",
            "Model fgsm attack accuracy (validation): 14.0625\n",
            "Epsilon: 0.06\tTest Accuracy = 131 / 1024 = 0.1279296875\n",
            "Model fgsm attack accuracy (validation): 12.79296875\n",
            "Epsilon: 0.065\tTest Accuracy = 119 / 1024 = 0.1162109375\n",
            "Model fgsm attack accuracy (validation): 11.62109375\n",
            "Epsilon: 0.07\tTest Accuracy = 106 / 1024 = 0.103515625\n",
            "Model fgsm attack accuracy (validation): 10.3515625\n",
            "Epsilon: 0.075\tTest Accuracy = 97 / 1024 = 0.0947265625\n",
            "Model fgsm attack accuracy (validation): 9.47265625\n",
            "Epsilon: 0.08\tTest Accuracy = 92 / 1024 = 0.08984375\n",
            "Model fgsm attack accuracy (validation): 8.984375\n",
            "Epsilon: 0.085\tTest Accuracy = 81 / 1024 = 0.0791015625\n",
            "Model fgsm attack accuracy (validation): 7.91015625\n",
            "Epsilon: 0.09\tTest Accuracy = 74 / 1024 = 0.072265625\n",
            "Model fgsm attack accuracy (validation): 7.2265625\n",
            "Epsilon: 0.095\tTest Accuracy = 71 / 1024 = 0.0693359375\n",
            "Model fgsm attack accuracy (validation): 6.93359375\n",
            "Epsilon: 0.1\tTest Accuracy = 68 / 1024 = 0.06640625\n",
            "Model fgsm attack accuracy (validation): 6.640625\n"
          ]
        }
      ]
    },
    {
      "cell_type": "code",
      "source": [
        "accuracies_10_fgsm = []\n",
        "net.load(\"models/adversarial_model_10.pth\")\n",
        "for eps in epsilons:\n",
        "  acc = test_fgsm(net, valid_loader, eps)\n",
        "  accuracies_10_fgsm.append(acc)\n",
        "  print(\"Model fgsm attack accuracy (validation): {}\".format(acc))"
      ],
      "metadata": {
        "id": "_gdSn7MYLNb9"
      },
      "execution_count": null,
      "outputs": []
    },
    {
      "cell_type": "code",
      "source": [
        "accuracies_all_fgsm = []\n",
        "net.load(\"models/adversarial_all.pth\")\n",
        "for eps in epsilons:\n",
        "  acc = test_fgsm(net, valid_loader, eps)\n",
        "  accuracies_all_fgsm.append(acc)\n",
        "  print(\"Model fgsm attack accuracy (validation): {}\".format(acc))"
      ],
      "metadata": {
        "colab": {
          "base_uri": "https://localhost:8080/"
        },
        "id": "qq31SgIy9lvN",
        "outputId": "f11f94ee-98a4-4ab4-92f4-1ea49ba289c3"
      },
      "execution_count": null,
      "outputs": [
        {
          "output_type": "stream",
          "name": "stdout",
          "text": [
            "Epsilon: 0\tTest Accuracy = 590 / 1024 = 0.576171875\n",
            "Model fgsm attack accuracy (validation): 57.6171875\n",
            "Epsilon: 0.005\tTest Accuracy = 518 / 1024 = 0.505859375\n",
            "Model fgsm attack accuracy (validation): 50.5859375\n",
            "Epsilon: 0.01\tTest Accuracy = 455 / 1024 = 0.4443359375\n",
            "Model fgsm attack accuracy (validation): 44.43359375\n",
            "Epsilon: 0.015\tTest Accuracy = 400 / 1024 = 0.390625\n",
            "Model fgsm attack accuracy (validation): 39.0625\n",
            "Epsilon: 0.02\tTest Accuracy = 356 / 1024 = 0.34765625\n",
            "Model fgsm attack accuracy (validation): 34.765625\n",
            "Epsilon: 0.025\tTest Accuracy = 323 / 1024 = 0.3154296875\n",
            "Model fgsm attack accuracy (validation): 31.54296875\n",
            "Epsilon: 0.03\tTest Accuracy = 295 / 1024 = 0.2880859375\n",
            "Model fgsm attack accuracy (validation): 28.80859375\n",
            "Epsilon: 0.035\tTest Accuracy = 279 / 1024 = 0.2724609375\n",
            "Model fgsm attack accuracy (validation): 27.24609375\n",
            "Epsilon: 0.04\tTest Accuracy = 261 / 1024 = 0.2548828125\n",
            "Model fgsm attack accuracy (validation): 25.48828125\n",
            "Epsilon: 0.045\tTest Accuracy = 236 / 1024 = 0.23046875\n",
            "Model fgsm attack accuracy (validation): 23.046875\n",
            "Epsilon: 0.05\tTest Accuracy = 217 / 1024 = 0.2119140625\n",
            "Model fgsm attack accuracy (validation): 21.19140625\n",
            "Epsilon: 0.055\tTest Accuracy = 208 / 1024 = 0.203125\n",
            "Model fgsm attack accuracy (validation): 20.3125\n",
            "Epsilon: 0.06\tTest Accuracy = 196 / 1024 = 0.19140625\n",
            "Model fgsm attack accuracy (validation): 19.140625\n",
            "Epsilon: 0.065\tTest Accuracy = 180 / 1024 = 0.17578125\n",
            "Model fgsm attack accuracy (validation): 17.578125\n",
            "Epsilon: 0.07\tTest Accuracy = 173 / 1024 = 0.1689453125\n",
            "Model fgsm attack accuracy (validation): 16.89453125\n",
            "Epsilon: 0.075\tTest Accuracy = 156 / 1024 = 0.15234375\n",
            "Model fgsm attack accuracy (validation): 15.234375\n",
            "Epsilon: 0.08\tTest Accuracy = 147 / 1024 = 0.1435546875\n",
            "Model fgsm attack accuracy (validation): 14.35546875\n",
            "Epsilon: 0.085\tTest Accuracy = 135 / 1024 = 0.1318359375\n",
            "Model fgsm attack accuracy (validation): 13.18359375\n",
            "Epsilon: 0.09\tTest Accuracy = 128 / 1024 = 0.125\n",
            "Model fgsm attack accuracy (validation): 12.5\n",
            "Epsilon: 0.095\tTest Accuracy = 122 / 1024 = 0.119140625\n",
            "Model fgsm attack accuracy (validation): 11.9140625\n",
            "Epsilon: 0.1\tTest Accuracy = 116 / 1024 = 0.11328125\n",
            "Model fgsm attack accuracy (validation): 11.328125\n"
          ]
        }
      ]
    },
    {
      "cell_type": "code",
      "source": [
        "accuracies_1_fgsm = []\n",
        "net.load(\"models/adversarial_model_1.pth\")\n",
        "for eps in epsilons:\n",
        "  acc = test_fgsm(net, valid_loader, eps)\n",
        "  accuracies_1_fgsm.append(acc)\n",
        "  print(\"Model fgsm attack accuracy (validation): {}\".format(acc))"
      ],
      "metadata": {
        "id": "mBHkGSgPxfT3"
      },
      "execution_count": null,
      "outputs": []
    },
    {
      "cell_type": "code",
      "source": [
        "accuracies_19_fgsm = []\n",
        "net.load(\"models/adversarial_model_19.pth\")\n",
        "for eps in epsilons:\n",
        "  acc = test_fgsm(net, valid_loader, eps)\n",
        "  accuracies_19_fgsm.append(acc)\n",
        "  print(\"Model fgsm attack accuracy (validation): {}\".format(acc))"
      ],
      "metadata": {
        "id": "bA3TPCqt0c3Y"
      },
      "execution_count": null,
      "outputs": []
    },
    {
      "cell_type": "code",
      "source": [
        "accuracies_3_fgsm = []\n",
        "net.load(\"models/adversarial_model_3.pth\")\n",
        "for eps in epsilons:\n",
        "  acc = test_fgsm(net, valid_loader, eps)\n",
        "  accuracies_3_fgsm.append(acc)\n",
        "  print(\"Model fgsm attack accuracy (validation): {}\".format(acc))"
      ],
      "metadata": {
        "id": "DeSv0A4YuP2p"
      },
      "execution_count": null,
      "outputs": []
    },
    {
      "cell_type": "code",
      "source": [
        "accuracies_2_fgsm = []\n",
        "net.load(\"models/adversarial_model_2.pth\")\n",
        "for eps in epsilons:\n",
        "  acc = test_fgsm(net, valid_loader, eps)\n",
        "  accuracies_2_fgsm.append(acc)\n",
        "  print(\"Model fgsm attack accuracy (validation): {}\".format(acc))"
      ],
      "metadata": {
        "id": "jBL0uVWCvqzm"
      },
      "execution_count": null,
      "outputs": []
    },
    {
      "cell_type": "code",
      "source": [
        "accuracies_4_fgsm = []\n",
        "net.load(\"models/adversarial_model_4.pth\")\n",
        "for eps in epsilons:\n",
        "  acc = test_fgsm(net, valid_loader, eps)\n",
        "  accuracies_4_fgsm.append(acc)\n",
        "  print(\"Model fgsm attack accuracy (validation): {}\".format(acc))"
      ],
      "metadata": {
        "id": "qPK0kQAVgbNs"
      },
      "execution_count": null,
      "outputs": []
    },
    {
      "cell_type": "code",
      "source": [
        "accuracies_6_fgsm = []\n",
        "net.load(\"models/adversarial_model_6.pth\")\n",
        "for eps in epsilons:\n",
        "  acc = test_fgsm(net, valid_loader, eps)\n",
        "  accuracies_6_fgsm.append(acc)\n",
        "  print(\"Model fgsm attack accuracy (validation): {}\".format(acc))"
      ],
      "metadata": {
        "id": "s2HFhMfmaomE"
      },
      "execution_count": null,
      "outputs": []
    },
    {
      "cell_type": "code",
      "source": [
        "accuracies_6_fgsm = []\n",
        "net.load(\"models/adversarial_model_6.pth\")\n",
        "for eps in epsilons:\n",
        "  acc = test_fgsm(net, valid_loader, eps)\n",
        "  accuracies_6_fgsm.append(acc)\n",
        "  print(\"Model fgsm attack accuracy (validation): {}\".format(acc))"
      ],
      "metadata": {
        "id": "Yu4G4pdSc5lH"
      },
      "execution_count": null,
      "outputs": []
    },
    {
      "cell_type": "code",
      "source": [
        "accuracies_9_fgsm = []\n",
        "net.load(\"models/adversarial_model_9.pth\")\n",
        "for eps in epsilons:\n",
        "  acc = test_fgsm(net, valid_loader, eps)\n",
        "  accuracies_9_fgsm.append(acc)\n",
        "  print(\"Model fgsm attack accuracy (validation): {}\".format(acc))"
      ],
      "metadata": {
        "id": "KlQyTn6bY3e-"
      },
      "execution_count": null,
      "outputs": []
    },
    {
      "cell_type": "code",
      "source": [
        "accuracies_50_fgsm = []\n",
        "net.load(\"models/adversarial_model_50.pth\")\n",
        "for eps in epsilons:\n",
        "  acc = test_fgsm(net, valid_loader, eps)\n",
        "  accuracies_50_fgsm.append(acc)\n",
        "  print(\"Model fgsm attack accuracy (validation): {}\".format(acc))"
      ],
      "metadata": {
        "id": "O2kCdV-tM4NN"
      },
      "execution_count": null,
      "outputs": []
    },
    {
      "cell_type": "code",
      "source": [
        "accuracies_8_fgsm = []\n",
        "net.load(\"models/adversarial_model_8.pth\")\n",
        "for eps in epsilons:\n",
        "  acc = test_fgsm(net, valid_loader, eps)\n",
        "  accuracies_8_fgsm.append(acc)\n",
        "  print(\"Model fgsm attack accuracy (validation): {}\".format(acc))"
      ],
      "metadata": {
        "id": "twOehNXjQr_O"
      },
      "execution_count": null,
      "outputs": []
    },
    {
      "cell_type": "code",
      "source": [
        "accuracies_7_fgsm = []\n",
        "net.load(\"models/adversarial_model_7.pth\")\n",
        "for eps in epsilons:\n",
        "  acc = test_fgsm(net, valid_loader, eps)\n",
        "  accuracies_7_fgsm.append(acc)\n",
        "  print(\"Model fgsm attack accuracy (validation): {}\".format(acc))"
      ],
      "metadata": {
        "id": "vZ0VMcA3SbCr"
      },
      "execution_count": null,
      "outputs": []
    },
    {
      "cell_type": "code",
      "source": [
        "accuracies_30_fgsm = []\n",
        "net.load(\"models/adversarial_model_30.pth\")\n",
        "for eps in epsilons:\n",
        "  acc = test_fgsm(net, valid_loader, eps)\n",
        "  accuracies_30_fgsm.append(acc)\n",
        "  print(\"Model fgsm attack accuracy (validation): {}\".format(acc))"
      ],
      "metadata": {
        "id": "ThaEv4wsOihC"
      },
      "execution_count": null,
      "outputs": []
    },
    {
      "cell_type": "code",
      "source": [
        "accuracies_82_fgsm = []\n",
        "net.load(\"models/adversarial_model_82.pth\")\n",
        "for eps in epsilons:\n",
        "  acc = test_fgsm(net, valid_loader, eps)\n",
        "  accuracies_82_fgsm.append(acc)\n",
        "  print(\"Model fgsm attack accuracy (validation): {}\".format(acc))"
      ],
      "metadata": {
        "id": "4q2DTNj25NYm"
      },
      "execution_count": null,
      "outputs": []
    },
    {
      "cell_type": "code",
      "source": [
        "accuracies_03_3_30_fgsm = []\n",
        "net.load(\"models/adversarial_model_03_3_30.pth\")\n",
        "for eps in epsilons:\n",
        "  acc = test_fgsm(net, valid_loader, eps)\n",
        "  accuracies_03_3_30_fgsm.append(acc)\n",
        "  print(\"Model fgsm attack accuracy (validation): {}\".format(acc))"
      ],
      "metadata": {
        "id": "os6KQZp-H194"
      },
      "execution_count": null,
      "outputs": []
    },
    {
      "cell_type": "code",
      "source": [
        "accuracies_5_fgsm = []\n",
        "net.load(\"models/adversarial_model_5.pth\")\n",
        "for eps in epsilons:\n",
        "  acc = test_fgsm(net, valid_loader, eps)\n",
        "  accuracies_5_fgsm.append(acc)\n",
        "  print(\"Model fgsm attack accuracy (validation): {}\".format(acc))"
      ],
      "metadata": {
        "id": "EgZXHsKRK6MG"
      },
      "execution_count": null,
      "outputs": []
    },
    {
      "cell_type": "code",
      "source": [
        "accuracies_50_fgsm = []\n",
        "net.load(\"models/adversarial_model_50.pth\")\n",
        "for eps in epsilons:\n",
        "  acc = test_fgsm(net, valid_loader, eps)\n",
        "  accuracies_50_fgsm.append(acc)\n",
        "  print(\"Model fgsm attack accuracy (validation): {}\".format(acc))"
      ],
      "metadata": {
        "id": "x_Xh-EFoK6QO"
      },
      "execution_count": null,
      "outputs": []
    },
    {
      "cell_type": "code",
      "source": [
        "accuracies_05_fgsm = []\n",
        "net.load(\"models/adversarial_model_05.pth\")\n",
        "for eps in epsilons:\n",
        "  acc = test_fgsm(net, valid_loader, eps)\n",
        "  accuracies_05_fgsm.append(acc)\n",
        "  print(\"Model fgsm attack accuracy (validation): {}\".format(acc))"
      ],
      "metadata": {
        "id": "eJeYqwpVUQlp"
      },
      "execution_count": null,
      "outputs": []
    },
    {
      "cell_type": "code",
      "source": [
        "accuracies_7_5_fgsm = []\n",
        "net.load(\"models/adversarial_model_7-5.pth\")\n",
        "for eps in epsilons:\n",
        "  acc = test_fgsm(net, valid_loader, eps)\n",
        "  accuracies_7_5_fgsm.append(acc)\n",
        "  print(\"Model fgsm attack accuracy (validation): {}\".format(acc))"
      ],
      "metadata": {
        "id": "b0v3zeN0K6bH"
      },
      "execution_count": null,
      "outputs": []
    },
    {
      "cell_type": "code",
      "source": [
        "accuracies_9_5_fgsm = []\n",
        "net.load(\"models/adversarial_model_9-5.pth\")\n",
        "for eps in epsilons:\n",
        "  acc = test_fgsm(net, valid_loader, eps)\n",
        "  accuracies_9_5_fgsm.append(acc)\n",
        "  print(\"Model fgsm attack accuracy (validation): {}\".format(acc))"
      ],
      "metadata": {
        "id": "fVOlNAG0jGb-"
      },
      "execution_count": null,
      "outputs": []
    },
    {
      "cell_type": "code",
      "source": [
        "accuracies_9_9_fgsm = []\n",
        "net.load(\"models/adversarial_model_9-9.pth\")\n",
        "for eps in epsilons:\n",
        "  acc = test_fgsm(net, valid_loader, eps)\n",
        "  accuracies_9_9_fgsm.append(acc)\n",
        "  print(\"Model fgsm attack accuracy (validation): {}\".format(acc))"
      ],
      "metadata": {
        "id": "rgDFHrYfkuVS"
      },
      "execution_count": null,
      "outputs": []
    },
    {
      "cell_type": "code",
      "source": [
        "accuracies_fgsm = []\n",
        "net.load(\"models/basic_model.pth\")\n",
        "for eps in epsilons:\n",
        "  acc = test_fgsm(net, valid_loader, eps)\n",
        "  accuracies_fgsm.append(acc)\n",
        "  print(\"Model fgsm attack accuracy (validation): {}\".format(acc))"
      ],
      "metadata": {
        "id": "Ci4eirmJWAB5"
      },
      "execution_count": null,
      "outputs": []
    },
    {
      "cell_type": "code",
      "source": [
        "import matplotlib.pyplot as plt\n",
        "plt.figure(figsize=(16,16))\n",
        "plt.plot(epsilons, accuracies_1_fgsm, \"*-\",label=\"Eps=0.01\")\n",
        "plt.plot(epsilons, accuracies_2_fgsm, \"*-\",label=\"Eps=0.02\")\n",
        "plt.plot(epsilons, accuracies_3_fgsm, \"*-\",label=\"Eps=0.03\")\n",
        "plt.plot(epsilons, accuracies_4_fgsm, \"*-\",label=\"Eps=0.04\")\n",
        "plt.plot(epsilons, accuracies_5_fgsm, \"*-\",label=\"Eps=0.05\")\n",
        "plt.plot(epsilons, accuracies_6_fgsm, \"*-\",label=\"Eps=0.06\")\n",
        "plt.plot(epsilons, accuracies_7_fgsm, \"*-\",label=\"Eps=0.07\")\n",
        "plt.plot(epsilons, accuracies_8_fgsm, \"*-\",label=\"Eps=0.08\")\n",
        "plt.plot(epsilons, accuracies_9_fgsm, \"*-\",label=\"Eps=0.09\")\n",
        "plt.plot(epsilons, accuracies_10_fgsm, \"*-\",label=\"Eps=0.1\")\n",
        "plt.plot(epsilons, accuracies_all_fgsm, \"*-\",label=\"Eps=all\")\n",
        "#Combining 0.03 and 0.07\n",
        "plt.plot(epsilons, accuracies_3_7_05_fgsm, \"*-\",label=\"Eps=3/7\")\n",
        "plt.yticks(np.arange(0, 65, step=10))\n",
        "plt.xticks(np.arange(0, .1, step=0.005))\n",
        "plt.title(\"Accuracy vs Epsilon FGSM Attack\")\n",
        "plt.grid(True)\n",
        "plt.xlabel(\"Epsilon\")\n",
        "plt.ylabel(\"Accuracy\")\n",
        "plt.legend()\n",
        "plt.show()"
      ],
      "metadata": {
        "colab": {
          "base_uri": "https://localhost:8080/"
        },
        "id": "DJhZ9G57VzJv",
        "outputId": "1ef59b8a-12fe-426a-cda6-a1c2a22786ad"
      },
      "execution_count": null,
      "outputs": [
        {
          "output_type": "display_data",
          "data": {
            "image/png": "[encoded data removed]",
            "text/plain": [
              "<Figure size 1152x1152 with 1 Axes>"
            ]
          },
          "metadata": {
            "needs_background": "light"
          }
        }
      ]
    }
  ]
}