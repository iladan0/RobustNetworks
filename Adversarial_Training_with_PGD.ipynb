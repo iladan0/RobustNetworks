{
  "nbformat": 4,
  "nbformat_minor": 0,
  "metadata": {
    "colab": {
      "name": "Adversarial Training with PGD.ipynb",
      "provenance": [],
      "machine_shape": "hm",
      "collapsed_sections": []
    },
    "kernelspec": {
      "name": "python3",
      "display_name": "Python 3"
    },
    "language_info": {
      "name": "python"
    },
    "accelerator": "GPU"
  },
  "cells": [
    {
      "cell_type": "code",
      "execution_count": null,
      "metadata": {
        "id": "dohY6RIEDQEP"
      },
      "outputs": [],
      "source": [
        "#get the project"
      ]
    },
    {
      "cell_type": "code",
      "source": [
        "%cd /content/assignment3-21-robustnet-1/"
      ],
      "metadata": {
        "id": "iDF01HGYDZf5"
      },
      "execution_count": null,
      "outputs": []
    },
    {
      "cell_type": "code",
      "source": [
        "!pip install -r requirements.txt"
      ],
      "metadata": {
        "id": "gn5LHeouDbt4"
      },
      "execution_count": null,
      "outputs": []
    },
    {
      "cell_type": "code",
      "source": [
        "#!/usr/bin/env python3 \n",
        "import os\n",
        "import argparse\n",
        "import torch\n",
        "import torchvision\n",
        "import numpy as np\n",
        "import torch.nn as nn\n",
        "import torch.nn.functional as F\n",
        "import torch.optim as optim\n",
        "import torch.utils.data\n",
        "import torchvision.transforms as transforms\n",
        "from random import randint\n",
        "\n",
        "from attacks import *\n",
        "from utils import *\n",
        "\n",
        "use_cuda = torch.cuda.is_available()\n",
        "device = torch.device(\"cuda\" if use_cuda else \"cpu\")\n",
        "\n",
        "valid_size = 1024\n",
        "batch_size = 32\n",
        "criterion = nn.NLLLoss()\n",
        "'''Basic neural network architecture (from pytorch doc).'''\n",
        "\n",
        "\n",
        "class Net(nn.Module):\n",
        "    model_file = \"models/default_model.pth\"\n",
        "    '''This file will be loaded to test your model. Use --model-file to load/store a different model.'''\n",
        "\n",
        "    def __init__(self):\n",
        "        super().__init__()\n",
        "        self.conv1 = nn.Conv2d(3, 6, 5)\n",
        "        self.pool = nn.MaxPool2d(2, 2)\n",
        "        self.conv2 = nn.Conv2d(6, 16, 5)\n",
        "        self.fc1 = nn.Linear(16 * 5 * 5, 120)\n",
        "        self.fc2 = nn.Linear(120, 84)\n",
        "        self.fc3 = nn.Linear(84, 10)\n",
        "\n",
        "    def forward(self, x):\n",
        "        x = self.pool(F.relu(self.conv1(x)))\n",
        "        x = self.pool(F.relu(self.conv2(x)))\n",
        "        x = torch.flatten(x, 1)\n",
        "        x = F.relu(self.fc1(x))\n",
        "        x = F.relu(self.fc2(x))\n",
        "        x = self.fc3(x)\n",
        "        x = F.log_softmax(x, dim=1)\n",
        "        return x\n",
        "\n",
        "    def save(self, model_file):\n",
        "        '''Helper function, use it to save the model weights after training.'''\n",
        "        torch.save(self.state_dict(), model_file)\n",
        "\n",
        "    def load(self, model_file):\n",
        "        self.load_state_dict(torch.load(model_file, map_location=torch.device(device)))\n",
        "\n",
        "    def load_for_testing(self, project_dir='./'):\n",
        "        '''This function will be called automatically before testing your\n",
        "           project, and will load the model weights from the file\n",
        "           specify in Net.model_file.\n",
        "           \n",
        "           You must not change the prototype of this function. You may\n",
        "           add extra code in its body if you feel it is necessary, but\n",
        "           beware that paths of files used in this function should be\n",
        "           refered relative to the root of your project directory.\n",
        "        '''\n",
        "        self.load(os.path.join(project_dir, Net.model_file))\n",
        "\n",
        "\n",
        "def train_model(net, train_loader, pth_filename, num_epochs):\n",
        "    '''Basic training function'''\n",
        "    print(\"Starting training\")\n",
        "\n",
        "    optimizer = optim.SGD(net.parameters(), lr=0.001, momentum=0.9)\n",
        "\n",
        "    train_loss = []\n",
        "    for epoch in range(num_epochs):  # loop over the dataset multiple times\n",
        "\n",
        "        loss_per_epoch = 0.0\n",
        "        for i, data in enumerate(train_loader, 0):\n",
        "            # get the inputs; data is a list of [inputs, labels]\n",
        "            inputs, labels = data[0].to(device), data[1].to(device)  \n",
        "             #Add adversarial data\n",
        "            adv_data=projected_gradient_descent(net,inputs,0.08,1/255,40,np.inf)\n",
        "            optimizer.zero_grad()\n",
        "            # forward + backward + optimize\n",
        "            outputs = net(adv_data)\n",
        "            loss = criterion(outputs, labels)\n",
        "            loss_per_epoch += loss.item()\n",
        "            loss.backward()\n",
        "            optimizer.step()\n",
        "        epoch_loss = loss_per_epoch / (len(train_loader))\n",
        "        train_loss.append(epoch_loss)\n",
        "        print(f'epoch : {epoch} --- loss : {epoch_loss} ')\n",
        "\n",
        "    net.save(pth_filename)\n",
        "    print('Model saved in {}'.format(pth_filename))\n",
        "    return train_loss\n",
        "\n",
        "\n",
        "####### Testing ############\n",
        "def test_natural(net, test_loader):\n",
        "    '''Basic testing function.'''\n",
        "\n",
        "    correct = 0\n",
        "    total = 0\n",
        "    # since we're not training, we don't need to calculate the gradients for our outputs\n",
        "    with torch.no_grad():\n",
        "        for i, data in enumerate(test_loader, 0):\n",
        "            images, labels = data[0].to(device), data[1].to(device)\n",
        "            # calculate outputs by running images through the network\n",
        "            outputs = net(images)\n",
        "            # the class with the highest energy is what we choose as prediction\n",
        "            _, predicted = torch.max(outputs.data, 1)\n",
        "            total += labels.size(0)\n",
        "            correct += (predicted == labels).sum().item()\n",
        "    return 100 * correct / total\n",
        "\n",
        "\n",
        "######################## Attack Testing ########################\n",
        "def test_fgsm(net, test_loader, epsilon):\n",
        "    correct = 0\n",
        "    for i, data in enumerate(test_loader, 0):\n",
        "        images, labels = data[0].to(device), data[1].to(device)\n",
        "        # calculate outputs by running images through the network\n",
        "        images.requires_grad = True\n",
        "        outputs = net(images)\n",
        "        # the class with the highest energy is what we choose as prediction\n",
        "        _, nat_pred = torch.max(outputs.data, 1)\n",
        "        if nat_pred.item() != labels.item():\n",
        "            continue\n",
        "        # if test sample is correctly predicted\n",
        "        loss = criterion(outputs, labels)\n",
        "        net.zero_grad()\n",
        "        loss.backward()\n",
        "\n",
        "        data_grad = images.grad.data\n",
        "        adv_data = fgsm(images, epsilon, data_grad)\n",
        "        output = net(adv_data)\n",
        "        _, adv_pred = torch.max(output.data, 1)\n",
        "        if adv_pred.item() == labels.item():\n",
        "            correct += 1\n",
        "    final_acc = correct / float(len(test_loader))\n",
        "    print(\"Epsilon: {}\\tTest Accuracy = {} / {} = {}\".format(epsilon, correct, len(test_loader), final_acc))\n",
        "    return 100 * final_acc\n",
        "\n",
        "\n",
        "def test_pgdlinf(net, test_loader, eta, eps, steps):\n",
        "    correct = 0\n",
        "    for i, data in enumerate(test_loader, 0):\n",
        "        images, labels = data[0].to(device), data[1].to(device)\n",
        "        adv_data = images.clone().detach().to(device)\n",
        "        for _ in range(steps):\n",
        "            # calculate outputs by running images through the network\n",
        "            adv_data.requires_grad = True\n",
        "            outputs = net(adv_data)\n",
        "\n",
        "            _, nat_pred = torch.max(outputs.data, 1)\n",
        "            if nat_pred.item() != labels.item():\n",
        "                break\n",
        "            loss = criterion(outputs, labels)\n",
        "            net.zero_grad()\n",
        "            loss.backward()\n",
        "\n",
        "            data_grad = adv_data.grad.data\n",
        "            adv_data = pgdlinf(adv_data, images, eta, eps, data_grad)\n",
        "        output = net(adv_data)\n",
        "        _, adv_pred = torch.max(output.data, 1)\n",
        "        if adv_pred.item() == labels.item():\n",
        "            correct += 1\n",
        "    final_acc = correct / float(len(test_loader))\n",
        "    print(\"Epsilon: {}\\tTest Accuracy = {} / {} = {}\".format(eps, correct, len(test_loader), final_acc))\n",
        "    return 100 * final_acc\n",
        "\n",
        "\n",
        "def test_pgdl2(net, test_loader, eta, eps, steps, eps_for_div):\n",
        "    correct = 0\n",
        "    for i, data in enumerate(test_loader, 0):\n",
        "\n",
        "        images, labels = data[0].to(device), data[1].to(device)\n",
        "        adv_data = images.clone().detach().to(device)\n",
        "        for _ in range(steps):\n",
        "\n",
        "            adv_data.requires_grad = True\n",
        "            outputs = net(adv_data)\n",
        "\n",
        "            _, nat_pred = torch.max(outputs.data, 1)\n",
        "            if nat_pred.item() != labels.item():\n",
        "\n",
        "                break\n",
        "            loss = criterion(outputs, labels)\n",
        "            net.zero_grad()\n",
        "            loss.backward()\n",
        "\n",
        "            data_grad = adv_data.grad.data\n",
        "            adv_data = pgdl2(adv_data, images, eta, eps, eps_for_div, data_grad)\n",
        "        output = net(adv_data)\n",
        "        _, adv_pred = torch.max(output.data, 1)\n",
        "        if adv_pred.item() == labels.item():\n",
        "            correct += 1\n",
        "    final_acc = correct / float(len(test_loader))\n",
        "    print(\"Epsilon: {}\\tTest Accuracy = {} / {} = {}\".format(eps, correct, len(test_loader), final_acc))\n",
        "    return 100 * final_acc\n",
        "\n",
        "\n",
        "\n",
        "##########################################\n",
        "\n",
        "def get_train_loader(dataset, valid_size=1024, batch_size=32):\n",
        "    '''Split dataset into [train:valid] and return a DataLoader for the training part.'''\n",
        "\n",
        "    indices = list(range(len(dataset)))\n",
        "    train_sampler = torch.utils.data.SubsetRandomSampler(indices[valid_size:])\n",
        "    train = torch.utils.data.DataLoader(dataset, sampler=train_sampler, batch_size=batch_size)\n",
        "\n",
        "    return train\n",
        "\n",
        "\n",
        "def get_validation_loader(dataset, valid_size=1024, batch_size=32):\n",
        "    '''Split dataset into [train:valid] and return a DataLoader for the validation part.'''\n",
        "\n",
        "    indices = list(range(len(dataset)))\n",
        "    valid_sampler = torch.utils.data.SubsetRandomSampler(indices[:valid_size])\n",
        "    valid = torch.utils.data.DataLoader(dataset, sampler=valid_sampler, batch_size=batch_size)\n",
        "\n",
        "    return valid\n",
        "\n"
      ],
      "metadata": {
        "id": "jCRPFB2gDkXm"
      },
      "execution_count": null,
      "outputs": []
    },
    {
      "cell_type": "code",
      "source": [
        "net = Net()\n",
        "net.to(device)"
      ],
      "metadata": {
        "colab": {
          "base_uri": "https://localhost:8080/"
        },
        "id": "tLPWzHc9DsN4",
        "outputId": "8215c29b-938b-4499-f8a4-dc4f5297898e"
      },
      "execution_count": null,
      "outputs": [
        {
          "output_type": "execute_result",
          "data": {
            "text/plain": [
              "Net(\n",
              "  (conv1): Conv2d(3, 6, kernel_size=(5, 5), stride=(1, 1))\n",
              "  (pool): MaxPool2d(kernel_size=2, stride=2, padding=0, dilation=1, ceil_mode=False)\n",
              "  (conv2): Conv2d(6, 16, kernel_size=(5, 5), stride=(1, 1))\n",
              "  (fc1): Linear(in_features=400, out_features=120, bias=True)\n",
              "  (fc2): Linear(in_features=120, out_features=84, bias=True)\n",
              "  (fc3): Linear(in_features=84, out_features=10, bias=True)\n",
              ")"
            ]
          },
          "metadata": {},
          "execution_count": 8
        }
      ]
    },
    {
      "cell_type": "code",
      "source": [
        "train_transform = transforms.Compose([transforms.ToTensor()])\n",
        "cifar = torchvision.datasets.CIFAR10('./data/', download=True, transform=train_transform)\n",
        "train_loader = get_train_loader(cifar, valid_size, batch_size)\n",
        "train_model(net, train_loader, \"models/adversarial_88.pth\", 20)\n",
        "print(\"Model save to '{}'.\".format(\"models/adversarial_88.pth\"))"
      ],
      "metadata": {
        "colab": {
          "base_uri": "https://localhost:8080/"
        },
        "id": "0v7Q4EMw9dXw",
        "outputId": "33c056e7-52a9-4c01-a677-49a15b144be3"
      },
      "execution_count": null,
      "outputs": [
        {
          "output_type": "stream",
          "name": "stdout",
          "text": [
            "Files already downloaded and verified\n",
            "Starting training\n",
            "epoch : 0 --- loss : 0.973488020671107 \n",
            "epoch : 1 --- loss : 0.9600703979457305 \n",
            "epoch : 2 --- loss : 0.9537906113362328 \n",
            "epoch : 3 --- loss : 0.9503382447885579 \n",
            "epoch : 4 --- loss : 0.9472881838981035 \n",
            "epoch : 5 --- loss : 0.9451755201948927 \n",
            "epoch : 6 --- loss : 0.9436870182673966 \n",
            "epoch : 7 --- loss : 0.9403053027286318 \n",
            "epoch : 8 --- loss : 0.9391395534509774 \n",
            "epoch : 9 --- loss : 0.9377188056142871 \n",
            "epoch : 10 --- loss : 0.9339689604212925 \n",
            "epoch : 11 --- loss : 0.9332083559441146 \n",
            "epoch : 12 --- loss : 0.9322303326826015 \n",
            "epoch : 13 --- loss : 0.9312130175409249 \n",
            "epoch : 14 --- loss : 0.9300208698293884 \n",
            "epoch : 15 --- loss : 0.9294011833463752 \n",
            "epoch : 16 --- loss : 0.9268937439485596 \n",
            "epoch : 17 --- loss : 0.925150626200932 \n",
            "epoch : 18 --- loss : 0.9256701155630769 \n",
            "epoch : 19 --- loss : 0.9222189228881971 \n",
            "Model saved in models/adversarial_88.pth\n",
            "Model save to 'models/adversarial_88.pth'.\n"
          ]
        }
      ]
    },
    {
      "cell_type": "code",
      "source": [
        "cifar = torchvision.datasets.CIFAR10('./data/', download=True, transform=transforms.ToTensor())\n",
        "valid_loader = get_validation_loader(cifar, valid_size, 1)  # batch size one for attack test otherwise put 32\n",
        "net.load(\"models/adversarial_3.pth\")\n",
        "acc = test_natural(net, valid_loader)\n",
        "print(\"Model natural accuracy (valid): {}\".format(acc))"
      ],
      "metadata": {
        "colab": {
          "base_uri": "https://localhost:8080/"
        },
        "id": "pAlDmdnbp1Ch",
        "outputId": "a0897625-4e15-486e-aef8-bc7c7d732b6c"
      },
      "execution_count": null,
      "outputs": [
        {
          "output_type": "stream",
          "name": "stdout",
          "text": [
            "Files already downloaded and verified\n",
            "Model natural accuracy (valid): 56.73828125\n"
          ]
        }
      ]
    },
    {
      "cell_type": "code",
      "source": [
        "#Accuracies of Trained model (with adversarial fgsm (0.03) data) with FGSM Attack \n",
        "epsilons = [0, .005, .01, .015, .02, .025, .03,.035,.04,.045,.050,.055,.06,.065,.07,.075,.08,.085,.09,.095,0.1]\n"
      ],
      "metadata": {
        "id": "TPmsv34_GV_M"
      },
      "execution_count": null,
      "outputs": []
    },
    {
      "cell_type": "code",
      "source": [
        "accuracies_88_pgd = []\n",
        "net.load(\"models/adversarial_88.pth\")\n",
        "for eps in epsilons:\n",
        "  acc = test_pgdlinf(net, valid_loader, 1/255,eps,40)\n",
        "  accuracies_88_pgd.append(acc)\n",
        "  print(\"Model fgsm attack accuracy (validation): {}\".format(acc))"
      ],
      "metadata": {
        "colab": {
          "base_uri": "https://localhost:8080/"
        },
        "id": "bWzvY058Xs6J",
        "outputId": "38f19df3-b89c-4b5a-a5d4-21ab14aad509"
      },
      "execution_count": null,
      "outputs": [
        {
          "output_type": "stream",
          "name": "stdout",
          "text": [
            "Epsilon: 0\tTest Accuracy = 508 / 1024 = 0.49609375\n",
            "Model fgsm attack accuracy (validation): 49.609375\n",
            "Epsilon: 0.005\tTest Accuracy = 467 / 1024 = 0.4560546875\n",
            "Model fgsm attack accuracy (validation): 45.60546875\n",
            "Epsilon: 0.01\tTest Accuracy = 428 / 1024 = 0.41796875\n",
            "Model fgsm attack accuracy (validation): 41.796875\n",
            "Epsilon: 0.015\tTest Accuracy = 389 / 1024 = 0.3798828125\n",
            "Model fgsm attack accuracy (validation): 37.98828125\n",
            "Epsilon: 0.02\tTest Accuracy = 351 / 1024 = 0.3427734375\n",
            "Model fgsm attack accuracy (validation): 34.27734375\n",
            "Epsilon: 0.025\tTest Accuracy = 326 / 1024 = 0.318359375\n",
            "Model fgsm attack accuracy (validation): 31.8359375\n",
            "Epsilon: 0.03\tTest Accuracy = 290 / 1024 = 0.283203125\n",
            "Model fgsm attack accuracy (validation): 28.3203125\n",
            "Epsilon: 0.035\tTest Accuracy = 266 / 1024 = 0.259765625\n",
            "Model fgsm attack accuracy (validation): 25.9765625\n",
            "Epsilon: 0.04\tTest Accuracy = 239 / 1024 = 0.2333984375\n",
            "Model fgsm attack accuracy (validation): 23.33984375\n",
            "Epsilon: 0.045\tTest Accuracy = 217 / 1024 = 0.2119140625\n",
            "Model fgsm attack accuracy (validation): 21.19140625\n",
            "Epsilon: 0.05\tTest Accuracy = 193 / 1024 = 0.1884765625\n",
            "Model fgsm attack accuracy (validation): 18.84765625\n",
            "Epsilon: 0.055\tTest Accuracy = 178 / 1024 = 0.173828125\n",
            "Model fgsm attack accuracy (validation): 17.3828125\n",
            "Epsilon: 0.06\tTest Accuracy = 153 / 1024 = 0.1494140625\n",
            "Model fgsm attack accuracy (validation): 14.94140625\n",
            "Epsilon: 0.065\tTest Accuracy = 136 / 1024 = 0.1328125\n",
            "Model fgsm attack accuracy (validation): 13.28125\n",
            "Epsilon: 0.07\tTest Accuracy = 121 / 1024 = 0.1181640625\n",
            "Model fgsm attack accuracy (validation): 11.81640625\n",
            "Epsilon: 0.075\tTest Accuracy = 110 / 1024 = 0.107421875\n",
            "Model fgsm attack accuracy (validation): 10.7421875\n",
            "Epsilon: 0.08\tTest Accuracy = 97 / 1024 = 0.0947265625\n",
            "Model fgsm attack accuracy (validation): 9.47265625\n",
            "Epsilon: 0.085\tTest Accuracy = 88 / 1024 = 0.0859375\n",
            "Model fgsm attack accuracy (validation): 8.59375\n",
            "Epsilon: 0.09\tTest Accuracy = 79 / 1024 = 0.0771484375\n",
            "Model fgsm attack accuracy (validation): 7.71484375\n",
            "Epsilon: 0.095\tTest Accuracy = 67 / 1024 = 0.0654296875\n",
            "Model fgsm attack accuracy (validation): 6.54296875\n",
            "Epsilon: 0.1\tTest Accuracy = 56 / 1024 = 0.0546875\n",
            "Model fgsm attack accuracy (validation): 5.46875\n"
          ]
        }
      ]
    },
    {
      "cell_type": "code",
      "source": [
        "accuracies_3_pgd = []\n",
        "net.load(\"models/adversarial_3.pth\")\n",
        "for eps in epsilons:\n",
        "  acc = test_pgdlinf(net, valid_loader, 1/255,eps,40)\n",
        "  accuracies_3_pgd.append(acc)\n",
        "  print(\"Model fgsm attack accuracy (validation): {}\".format(acc))"
      ],
      "metadata": {
        "id": "rgDFHrYfkuVS"
      },
      "execution_count": null,
      "outputs": []
    },
    {
      "cell_type": "code",
      "source": [
        "accuracies_3_pgd_l2 = []\n",
        "net.load(\"models/basic_model.pth\")\n",
        "for eps in epsilons:\n",
        "  acc = test_pgdl2(net, valid_loader, 1/255,eps,40,1e-10)\n",
        "  accuracies_3_pgd_l2.append(acc)\n",
        "  print(\"Model fgsm attack accuracy (validation): {}\".format(acc))"
      ],
      "metadata": {
        "id": "iubmVVSoRuZu"
      },
      "execution_count": null,
      "outputs": []
    },
    {
      "cell_type": "code",
      "source": [
        "accuracies_pgd = []\n",
        "net.load(\"models/basic_model.pth\")\n",
        "for eps in epsilons:\n",
        "  acc = test_pgdlinf(net, valid_loader, 1/255,eps,40)\n",
        "  accuracies_pgd.append(acc)\n",
        "  print(\"Model fgsm attack accuracy (validation): {}\".format(acc))"
      ],
      "metadata": {
        "colab": {
          "base_uri": "https://localhost:8080/"
        },
        "id": "Dy6y8VwsPg3K",
        "outputId": "8feee494-5671-4ae5-9a2b-349a06d8a6aa"
      },
      "execution_count": null,
      "outputs": [
        {
          "output_type": "stream",
          "name": "stdout",
          "text": [
            "Epsilon: 0\tTest Accuracy = 633 / 1024 = 0.6181640625\n",
            "Model fgsm attack accuracy (validation): 61.81640625\n",
            "Epsilon: 0.005\tTest Accuracy = 373 / 1024 = 0.3642578125\n",
            "Model fgsm attack accuracy (validation): 36.42578125\n",
            "Epsilon: 0.01\tTest Accuracy = 154 / 1024 = 0.150390625\n",
            "Model fgsm attack accuracy (validation): 15.0390625\n",
            "Epsilon: 0.015\tTest Accuracy = 61 / 1024 = 0.0595703125\n",
            "Model fgsm attack accuracy (validation): 5.95703125\n",
            "Epsilon: 0.02\tTest Accuracy = 22 / 1024 = 0.021484375\n",
            "Model fgsm attack accuracy (validation): 2.1484375\n",
            "Epsilon: 0.025\tTest Accuracy = 4 / 1024 = 0.00390625\n",
            "Model fgsm attack accuracy (validation): 0.390625\n",
            "Epsilon: 0.03\tTest Accuracy = 3 / 1024 = 0.0029296875\n",
            "Model fgsm attack accuracy (validation): 0.29296875\n",
            "Epsilon: 0.035\tTest Accuracy = 0 / 1024 = 0.0\n",
            "Model fgsm attack accuracy (validation): 0.0\n",
            "Epsilon: 0.04\tTest Accuracy = 0 / 1024 = 0.0\n",
            "Model fgsm attack accuracy (validation): 0.0\n",
            "Epsilon: 0.045\tTest Accuracy = 0 / 1024 = 0.0\n",
            "Model fgsm attack accuracy (validation): 0.0\n",
            "Epsilon: 0.05\tTest Accuracy = 0 / 1024 = 0.0\n",
            "Model fgsm attack accuracy (validation): 0.0\n",
            "Epsilon: 0.055\tTest Accuracy = 0 / 1024 = 0.0\n",
            "Model fgsm attack accuracy (validation): 0.0\n",
            "Epsilon: 0.06\tTest Accuracy = 0 / 1024 = 0.0\n",
            "Model fgsm attack accuracy (validation): 0.0\n",
            "Epsilon: 0.065\tTest Accuracy = 0 / 1024 = 0.0\n",
            "Model fgsm attack accuracy (validation): 0.0\n",
            "Epsilon: 0.07\tTest Accuracy = 0 / 1024 = 0.0\n",
            "Model fgsm attack accuracy (validation): 0.0\n",
            "Epsilon: 0.075\tTest Accuracy = 0 / 1024 = 0.0\n",
            "Model fgsm attack accuracy (validation): 0.0\n",
            "Epsilon: 0.08\tTest Accuracy = 0 / 1024 = 0.0\n",
            "Model fgsm attack accuracy (validation): 0.0\n",
            "Epsilon: 0.085\tTest Accuracy = 0 / 1024 = 0.0\n",
            "Model fgsm attack accuracy (validation): 0.0\n",
            "Epsilon: 0.09\tTest Accuracy = 0 / 1024 = 0.0\n",
            "Model fgsm attack accuracy (validation): 0.0\n",
            "Epsilon: 0.095\tTest Accuracy = 0 / 1024 = 0.0\n",
            "Model fgsm attack accuracy (validation): 0.0\n",
            "Epsilon: 0.1\tTest Accuracy = 0 / 1024 = 0.0\n",
            "Model fgsm attack accuracy (validation): 0.0\n"
          ]
        }
      ]
    },
    {
      "cell_type": "code",
      "source": [
        "accuracies_fgsm = []\n",
        "net.load(\"models/adversarial_88.pth\")\n",
        "for eps in epsilons:\n",
        "  acc = test_fgsm(net, valid_loader,eps)\n",
        "  accuracies_fgsm.append(acc)\n",
        "  print(\"Model fgsm attack accuracy (validation): {}\".format(acc))"
      ],
      "metadata": {
        "colab": {
          "base_uri": "https://localhost:8080/"
        },
        "id": "xWWqRn-KnL5W",
        "outputId": "535b0bd6-8bef-453f-fe55-70eb050bcbcd"
      },
      "execution_count": null,
      "outputs": [
        {
          "output_type": "stream",
          "name": "stdout",
          "text": [
            "Epsilon: 0\tTest Accuracy = 508 / 1024 = 0.49609375\n",
            "Model fgsm attack accuracy (validation): 49.609375\n",
            "Epsilon: 0.005\tTest Accuracy = 467 / 1024 = 0.4560546875\n",
            "Model fgsm attack accuracy (validation): 45.60546875\n",
            "Epsilon: 0.01\tTest Accuracy = 428 / 1024 = 0.41796875\n",
            "Model fgsm attack accuracy (validation): 41.796875\n",
            "Epsilon: 0.015\tTest Accuracy = 393 / 1024 = 0.3837890625\n",
            "Model fgsm attack accuracy (validation): 38.37890625\n",
            "Epsilon: 0.02\tTest Accuracy = 365 / 1024 = 0.3564453125\n",
            "Model fgsm attack accuracy (validation): 35.64453125\n",
            "Epsilon: 0.025\tTest Accuracy = 336 / 1024 = 0.328125\n",
            "Model fgsm attack accuracy (validation): 32.8125\n",
            "Epsilon: 0.03\tTest Accuracy = 309 / 1024 = 0.3017578125\n",
            "Model fgsm attack accuracy (validation): 30.17578125\n",
            "Epsilon: 0.035\tTest Accuracy = 289 / 1024 = 0.2822265625\n",
            "Model fgsm attack accuracy (validation): 28.22265625\n",
            "Epsilon: 0.04\tTest Accuracy = 275 / 1024 = 0.2685546875\n",
            "Model fgsm attack accuracy (validation): 26.85546875\n",
            "Epsilon: 0.045\tTest Accuracy = 256 / 1024 = 0.25\n",
            "Model fgsm attack accuracy (validation): 25.0\n",
            "Epsilon: 0.05\tTest Accuracy = 236 / 1024 = 0.23046875\n",
            "Model fgsm attack accuracy (validation): 23.046875\n",
            "Epsilon: 0.055\tTest Accuracy = 220 / 1024 = 0.21484375\n",
            "Model fgsm attack accuracy (validation): 21.484375\n",
            "Epsilon: 0.06\tTest Accuracy = 207 / 1024 = 0.2021484375\n",
            "Model fgsm attack accuracy (validation): 20.21484375\n",
            "Epsilon: 0.065\tTest Accuracy = 189 / 1024 = 0.1845703125\n",
            "Model fgsm attack accuracy (validation): 18.45703125\n",
            "Epsilon: 0.07\tTest Accuracy = 166 / 1024 = 0.162109375\n",
            "Model fgsm attack accuracy (validation): 16.2109375\n",
            "Epsilon: 0.075\tTest Accuracy = 158 / 1024 = 0.154296875\n",
            "Model fgsm attack accuracy (validation): 15.4296875\n",
            "Epsilon: 0.08\tTest Accuracy = 148 / 1024 = 0.14453125\n",
            "Model fgsm attack accuracy (validation): 14.453125\n",
            "Epsilon: 0.085\tTest Accuracy = 137 / 1024 = 0.1337890625\n",
            "Model fgsm attack accuracy (validation): 13.37890625\n",
            "Epsilon: 0.09\tTest Accuracy = 128 / 1024 = 0.125\n",
            "Model fgsm attack accuracy (validation): 12.5\n",
            "Epsilon: 0.095\tTest Accuracy = 118 / 1024 = 0.115234375\n",
            "Model fgsm attack accuracy (validation): 11.5234375\n",
            "Epsilon: 0.1\tTest Accuracy = 111 / 1024 = 0.1083984375\n",
            "Model fgsm attack accuracy (validation): 10.83984375\n"
          ]
        }
      ]
    },
    {
      "cell_type": "code",
      "source": [
        "accuracies_fgsm1 = []\n",
        "net.load(\"models/basic_model.pth\")\n",
        "for eps in epsilons:\n",
        "  acc = test_fgsm(net, valid_loader,eps)\n",
        "  accuracies_fgsm1.append(acc)\n",
        "  print(\"Model fgsm attack accuracy (validation): {}\".format(acc))"
      ],
      "metadata": {
        "colab": {
          "base_uri": "https://localhost:8080/"
        },
        "id": "tmumDvAPnu7E",
        "outputId": "9e52ebc6-3ec2-4206-8367-e2eb2af1ce48"
      },
      "execution_count": null,
      "outputs": [
        {
          "output_type": "stream",
          "name": "stdout",
          "text": [
            "Epsilon: 0\tTest Accuracy = 633 / 1024 = 0.6181640625\n",
            "Model fgsm attack accuracy (validation): 61.81640625\n",
            "Epsilon: 0.005\tTest Accuracy = 405 / 1024 = 0.3955078125\n",
            "Model fgsm attack accuracy (validation): 39.55078125\n",
            "Epsilon: 0.01\tTest Accuracy = 234 / 1024 = 0.228515625\n",
            "Model fgsm attack accuracy (validation): 22.8515625\n",
            "Epsilon: 0.015\tTest Accuracy = 122 / 1024 = 0.119140625\n",
            "Model fgsm attack accuracy (validation): 11.9140625\n",
            "Epsilon: 0.02\tTest Accuracy = 81 / 1024 = 0.0791015625\n",
            "Model fgsm attack accuracy (validation): 7.91015625\n",
            "Epsilon: 0.025\tTest Accuracy = 49 / 1024 = 0.0478515625\n",
            "Model fgsm attack accuracy (validation): 4.78515625\n",
            "Epsilon: 0.03\tTest Accuracy = 32 / 1024 = 0.03125\n",
            "Model fgsm attack accuracy (validation): 3.125\n",
            "Epsilon: 0.035\tTest Accuracy = 18 / 1024 = 0.017578125\n",
            "Model fgsm attack accuracy (validation): 1.7578125\n",
            "Epsilon: 0.04\tTest Accuracy = 11 / 1024 = 0.0107421875\n",
            "Model fgsm attack accuracy (validation): 1.07421875\n",
            "Epsilon: 0.045\tTest Accuracy = 6 / 1024 = 0.005859375\n",
            "Model fgsm attack accuracy (validation): 0.5859375\n",
            "Epsilon: 0.05\tTest Accuracy = 4 / 1024 = 0.00390625\n",
            "Model fgsm attack accuracy (validation): 0.390625\n",
            "Epsilon: 0.055\tTest Accuracy = 3 / 1024 = 0.0029296875\n",
            "Model fgsm attack accuracy (validation): 0.29296875\n",
            "Epsilon: 0.06\tTest Accuracy = 1 / 1024 = 0.0009765625\n",
            "Model fgsm attack accuracy (validation): 0.09765625\n",
            "Epsilon: 0.065\tTest Accuracy = 1 / 1024 = 0.0009765625\n",
            "Model fgsm attack accuracy (validation): 0.09765625\n",
            "Epsilon: 0.07\tTest Accuracy = 0 / 1024 = 0.0\n",
            "Model fgsm attack accuracy (validation): 0.0\n",
            "Epsilon: 0.075\tTest Accuracy = 0 / 1024 = 0.0\n",
            "Model fgsm attack accuracy (validation): 0.0\n",
            "Epsilon: 0.08\tTest Accuracy = 0 / 1024 = 0.0\n",
            "Model fgsm attack accuracy (validation): 0.0\n",
            "Epsilon: 0.085\tTest Accuracy = 0 / 1024 = 0.0\n",
            "Model fgsm attack accuracy (validation): 0.0\n",
            "Epsilon: 0.09\tTest Accuracy = 1 / 1024 = 0.0009765625\n",
            "Model fgsm attack accuracy (validation): 0.09765625\n",
            "Epsilon: 0.095\tTest Accuracy = 2 / 1024 = 0.001953125\n",
            "Model fgsm attack accuracy (validation): 0.1953125\n",
            "Epsilon: 0.1\tTest Accuracy = 2 / 1024 = 0.001953125\n",
            "Model fgsm attack accuracy (validation): 0.1953125\n"
          ]
        }
      ]
    },
    {
      "cell_type": "code",
      "source": [
        "import matplotlib.pyplot as plt\n",
        "plt.figure(figsize=(16,16))\n",
        "plt.plot(epsilons, accuracies_fgsm1, \"*-\",label=\"Basic Model\")\n",
        "plt.plot(epsilons, accuracies_fgsm, \"*-\",label=\"Eps=0.08\")\n",
        "\n",
        "plt.yticks(np.arange(0, 65, step=10))\n",
        "plt.xticks(np.arange(0, .1, step=0.005))\n",
        "plt.title(\"Accuracy vs Epsilon FGSM Attack\")\n",
        "plt.grid(True)\n",
        "plt.xlabel(\"Epsilon\")\n",
        "plt.ylabel(\"Accuracy\")\n",
        "plt.legend()\n",
        "plt.show()"
      ],
      "metadata": {
        "colab": {
          "base_uri": "https://localhost:8080/",
          "height": 948
        },
        "id": "DJhZ9G57VzJv",
        "outputId": "524e6037-4228-4572-b5bc-e48e141e9023"
      },
      "execution_count": null,
      "outputs": [
        {
          "output_type": "display_data",
          "data": {
            "image/png": "[encoded data removed]",
            "text/plain": [
              "<Figure size 1152x1152 with 1 Axes>"
            ]
          },
          "metadata": {
            "needs_background": "light"
          }
        }
      ]
    }
  ]
}